{
 "cells": [
  {
   "cell_type": "markdown",
   "metadata": {
    "pycharm": {
     "name": "#%% md\n"
    }
   },
   "source": [
    "# Online Retail - Getting to know the data and Data cleaning"
   ]
  },
  {
   "cell_type": "markdown",
   "metadata": {},
   "source": [
    "## Introduction"
   ]
  },
  {
   "cell_type": "markdown",
   "metadata": {},
   "source": [
    "This notebook is the first part of a series of online Retail data analysis. In this first part, we shall begin by understanding the dataset and cleaning it up for analysis. \n",
    "\n",
    "Some of the processes we go through here are key in the real world. It helps us critique the data and pose relavant data quality questions to the data originators - when you are not querrying the database yourself and data is handed to you. This all helps us to ensure that any insights from the data are valid.\n",
    "\n",
    "Two years (Dec-2009 to Dec-2011) of transactions data from a small UK-based non-store business will be used in this project. There are two main sources for the same dataset on kaggle: <a href = \"https://www.kaggle.com/datasets/mashlyn/online-retail-ii-uci\"> online-retail-ii-uci</a> provided by user **<a href = \"https://www.kaggle.com/datasets/mashlyn/online-retail-ii-uci\"> Miyabon</a>** in *csv format*(csv_data) and <a href = \"https://www.kaggle.com/code/ekrembayar/rfm-analysis-online-retail-ii\"> Online Retail II dataset</a> provided as an excel format in two sheets, `Year 2009-2010` and `Year 2010-2011`by <a href = \"https://www.kaggle.com/datasets/kabilan45/online-retail-ii-dataset\">Kabilan, (2019)</a> (excel_data). \n",
    "\n",
    "The csv_data is more popular on kaggle and contains good metadata description while the less used excel_data does not contain metadata description but is evidently the same dataset as I will demonstrate in this notebook. I used these two sources to complement each other, for example the csv_data provides metadata description and aid general understanding of the dataset while excel_data provides the cross-checks to ensure validity.\n",
    "\n",
    "While pre-processing the csv_data, I noticed unusually high duplicates in data records in december 2010. I used the excel_data to confirm that in preparation of the csv_data, it appears an overlap in data records at the end of `Year 2009-2010` and the start of `Year 2010-2011` was created.\n",
    "\n",
    "In this notebook, I clean up such duplicates and go through the process of understanding, cleaning this dataset and putting it in a state ready to analyse."
   ]
  },
  {
   "cell_type": "markdown",
   "metadata": {},
   "source": [
    "# Table of Contents  \n",
    "\n",
    "1. [Import packages](#import_packages)  \n",
    "2. [Read the data](#read_data)  \n",
    "3. [Data Description](#data_description)   \n",
    "4. [Check Duplicates](#check_duplicates)  \n",
    "5. [Exploring data in each column](#colum_descr)  \n",
    "5.1 [Invoice](#invoice)  \n",
    "5.2 [Quantity](#Quantity)  \n",
    "5.3 [InvoiceDate](#invoiceDate)  \n",
    "5.4 [Customer ID](#customerID)  \n",
    "5.5 [Country](#country)    \n",
    "            \n",
    "6. [Missing Values](#na_vals)\n",
    "7. [Conclusion](#conclusion)\n",
    "8. [References](#references)\n"
   ]
  },
  {
   "cell_type": "markdown",
   "metadata": {
    "pycharm": {
     "name": "#%% md\n"
    }
   },
   "source": [
    "## 1. Import packages <a class=\"anchor\" id=\"import_packages\"></a>"
   ]
  },
  {
   "cell_type": "code",
   "execution_count": 115,
   "metadata": {
    "pycharm": {
     "name": "#%%\n"
    }
   },
   "outputs": [],
   "source": [
    "import numpy as np\n",
    "import pandas as pd\n",
    "import matplotlib.pyplot as plt\n",
    "from IPython.display import display\n",
    "from collections import defaultdict\n",
    "import datetime as dt"
   ]
  },
  {
   "cell_type": "markdown",
   "metadata": {
    "pycharm": {
     "name": "#%% md\n"
    }
   },
   "source": [
    "## 2. Read the data <a class=\"anchor\" id=\"read_data\"></a>\n",
    "We read the csv_data using `pandas.read_csv()`. We then print the first 5 lines of the dataset and information about the columns."
   ]
  },
  {
   "cell_type": "code",
   "execution_count": 8,
   "metadata": {
    "pycharm": {
     "name": "#%%\n"
    },
    "tags": []
   },
   "outputs": [
    {
     "data": {
      "text/html": [
       "<div>\n",
       "<style scoped>\n",
       "    .dataframe tbody tr th:only-of-type {\n",
       "        vertical-align: middle;\n",
       "    }\n",
       "\n",
       "    .dataframe tbody tr th {\n",
       "        vertical-align: top;\n",
       "    }\n",
       "\n",
       "    .dataframe thead th {\n",
       "        text-align: right;\n",
       "    }\n",
       "</style>\n",
       "<table border=\"1\" class=\"dataframe\">\n",
       "  <thead>\n",
       "    <tr style=\"text-align: right;\">\n",
       "      <th></th>\n",
       "      <th>Invoice</th>\n",
       "      <th>StockCode</th>\n",
       "      <th>Description</th>\n",
       "      <th>Quantity</th>\n",
       "      <th>InvoiceDate</th>\n",
       "      <th>Price</th>\n",
       "      <th>Customer ID</th>\n",
       "      <th>Country</th>\n",
       "    </tr>\n",
       "  </thead>\n",
       "  <tbody>\n",
       "    <tr>\n",
       "      <th>0</th>\n",
       "      <td>489434</td>\n",
       "      <td>85048</td>\n",
       "      <td>15CM CHRISTMAS GLASS BALL 20 LIGHTS</td>\n",
       "      <td>12</td>\n",
       "      <td>2009-12-01 07:45:00</td>\n",
       "      <td>6.95</td>\n",
       "      <td>13085.0</td>\n",
       "      <td>United Kingdom</td>\n",
       "    </tr>\n",
       "    <tr>\n",
       "      <th>1</th>\n",
       "      <td>489434</td>\n",
       "      <td>79323P</td>\n",
       "      <td>PINK CHERRY LIGHTS</td>\n",
       "      <td>12</td>\n",
       "      <td>2009-12-01 07:45:00</td>\n",
       "      <td>6.75</td>\n",
       "      <td>13085.0</td>\n",
       "      <td>United Kingdom</td>\n",
       "    </tr>\n",
       "    <tr>\n",
       "      <th>2</th>\n",
       "      <td>489434</td>\n",
       "      <td>79323W</td>\n",
       "      <td>WHITE CHERRY LIGHTS</td>\n",
       "      <td>12</td>\n",
       "      <td>2009-12-01 07:45:00</td>\n",
       "      <td>6.75</td>\n",
       "      <td>13085.0</td>\n",
       "      <td>United Kingdom</td>\n",
       "    </tr>\n",
       "    <tr>\n",
       "      <th>3</th>\n",
       "      <td>489434</td>\n",
       "      <td>22041</td>\n",
       "      <td>RECORD FRAME 7\" SINGLE SIZE</td>\n",
       "      <td>48</td>\n",
       "      <td>2009-12-01 07:45:00</td>\n",
       "      <td>2.10</td>\n",
       "      <td>13085.0</td>\n",
       "      <td>United Kingdom</td>\n",
       "    </tr>\n",
       "    <tr>\n",
       "      <th>4</th>\n",
       "      <td>489434</td>\n",
       "      <td>21232</td>\n",
       "      <td>STRAWBERRY CERAMIC TRINKET BOX</td>\n",
       "      <td>24</td>\n",
       "      <td>2009-12-01 07:45:00</td>\n",
       "      <td>1.25</td>\n",
       "      <td>13085.0</td>\n",
       "      <td>United Kingdom</td>\n",
       "    </tr>\n",
       "  </tbody>\n",
       "</table>\n",
       "</div>"
      ],
      "text/plain": [
       "  Invoice StockCode                          Description  Quantity  \\\n",
       "0  489434     85048  15CM CHRISTMAS GLASS BALL 20 LIGHTS        12   \n",
       "1  489434    79323P                   PINK CHERRY LIGHTS        12   \n",
       "2  489434    79323W                  WHITE CHERRY LIGHTS        12   \n",
       "3  489434     22041         RECORD FRAME 7\" SINGLE SIZE         48   \n",
       "4  489434     21232       STRAWBERRY CERAMIC TRINKET BOX        24   \n",
       "\n",
       "           InvoiceDate  Price  Customer ID         Country  \n",
       "0  2009-12-01 07:45:00   6.95      13085.0  United Kingdom  \n",
       "1  2009-12-01 07:45:00   6.75      13085.0  United Kingdom  \n",
       "2  2009-12-01 07:45:00   6.75      13085.0  United Kingdom  \n",
       "3  2009-12-01 07:45:00   2.10      13085.0  United Kingdom  \n",
       "4  2009-12-01 07:45:00   1.25      13085.0  United Kingdom  "
      ]
     },
     "execution_count": 8,
     "metadata": {},
     "output_type": "execute_result"
    }
   ],
   "source": [
    "data_path = './dataset/online_retail_II.csv'\n",
    "# read first sheet of data\n",
    "csv_data = pd.read_csv(data_path)\n",
    "# sort by InvoiceDate and reset the index\n",
    "csv_data = csv_data.sort_values(by = 'InvoiceDate').reset_index(drop = True)\n",
    "csv_data.head()"
   ]
  },
  {
   "cell_type": "code",
   "execution_count": 9,
   "metadata": {},
   "outputs": [
    {
     "name": "stdout",
     "output_type": "stream",
     "text": [
      "<class 'pandas.core.frame.DataFrame'>\n",
      "RangeIndex: 1067371 entries, 0 to 1067370\n",
      "Data columns (total 8 columns):\n",
      " #   Column       Non-Null Count    Dtype  \n",
      "---  ------       --------------    -----  \n",
      " 0   Invoice      1067371 non-null  object \n",
      " 1   StockCode    1067371 non-null  object \n",
      " 2   Description  1062989 non-null  object \n",
      " 3   Quantity     1067371 non-null  int64  \n",
      " 4   InvoiceDate  1067371 non-null  object \n",
      " 5   Price        1067371 non-null  float64\n",
      " 6   Customer ID  824364 non-null   float64\n",
      " 7   Country      1067371 non-null  object \n",
      "dtypes: float64(2), int64(1), object(5)\n",
      "memory usage: 65.1+ MB\n"
     ]
    }
   ],
   "source": [
    "# information about the columns\n",
    "csv_data.info()"
   ]
  },
  {
   "cell_type": "markdown",
   "metadata": {
    "tags": []
   },
   "source": [
    "## 3. Data Description <a class=\"anchor\" id=\"data_description\"></a>\n",
    "\n",
    "The description of each column is avaialable on the <a href = \"https://www.kaggle.com/datasets/mashlyn/online-retail-ii-uci\"> kaggle data page</a>. \n",
    "Each row represents a transaction of unique item (**StockCode**) by specific customer (**Customer ID**) on a specific date (**InvoiceDate**). The **Quantity** represents the total number of units and the **Price** is the unit price for **StockCode**. An **Invoice** can include multiple **StockCode**. **Country** represents the customer's country and **Descripion** is the item's description.  "
   ]
  },
  {
   "cell_type": "markdown",
   "metadata": {},
   "source": [
    "## 4. Check Duplicates  <a class=\"anchor\" id=\"check_duplicates\"></a>\n",
    "We shall first check if there is duplicated transactions in the dataset"
   ]
  },
  {
   "cell_type": "code",
   "execution_count": 10,
   "metadata": {},
   "outputs": [
    {
     "name": "stdout",
     "output_type": "stream",
     "text": [
      "The number of duplicate data records:  34335\n"
     ]
    }
   ],
   "source": [
    "print('The number of duplicate data records: ', csv_data.sort_values(by = 'InvoiceDate').duplicated().sum())"
   ]
  },
  {
   "cell_type": "markdown",
   "metadata": {},
   "source": [
    "We can see that the dataset contains a significant number of duplicates - 34,335. Visually inspecting these duplicated rows of data, confirms that such records do appear as duplicates. For example, row indices 370 and 398 appear to show the same item for the same customer at the same InvoiceDate."
   ]
  },
  {
   "cell_type": "code",
   "execution_count": 11,
   "metadata": {},
   "outputs": [
    {
     "data": {
      "text/html": [
       "<div>\n",
       "<style scoped>\n",
       "    .dataframe tbody tr th:only-of-type {\n",
       "        vertical-align: middle;\n",
       "    }\n",
       "\n",
       "    .dataframe tbody tr th {\n",
       "        vertical-align: top;\n",
       "    }\n",
       "\n",
       "    .dataframe thead th {\n",
       "        text-align: right;\n",
       "    }\n",
       "</style>\n",
       "<table border=\"1\" class=\"dataframe\">\n",
       "  <thead>\n",
       "    <tr style=\"text-align: right;\">\n",
       "      <th></th>\n",
       "      <th>Invoice</th>\n",
       "      <th>StockCode</th>\n",
       "      <th>Description</th>\n",
       "      <th>Quantity</th>\n",
       "      <th>InvoiceDate</th>\n",
       "      <th>Price</th>\n",
       "      <th>Customer ID</th>\n",
       "      <th>Country</th>\n",
       "    </tr>\n",
       "  </thead>\n",
       "  <tbody>\n",
       "    <tr>\n",
       "      <th>370</th>\n",
       "      <td>489517</td>\n",
       "      <td>21491</td>\n",
       "      <td>SET OF THREE VINTAGE GIFT WRAPS</td>\n",
       "      <td>1</td>\n",
       "      <td>2009-12-01 11:34:00</td>\n",
       "      <td>1.95</td>\n",
       "      <td>16329.0</td>\n",
       "      <td>United Kingdom</td>\n",
       "    </tr>\n",
       "    <tr>\n",
       "      <th>398</th>\n",
       "      <td>489517</td>\n",
       "      <td>21491</td>\n",
       "      <td>SET OF THREE VINTAGE GIFT WRAPS</td>\n",
       "      <td>1</td>\n",
       "      <td>2009-12-01 11:34:00</td>\n",
       "      <td>1.95</td>\n",
       "      <td>16329.0</td>\n",
       "      <td>United Kingdom</td>\n",
       "    </tr>\n",
       "    <tr>\n",
       "      <th>366</th>\n",
       "      <td>489517</td>\n",
       "      <td>21821</td>\n",
       "      <td>GLITTER STAR GARLAND WITH BELLS</td>\n",
       "      <td>1</td>\n",
       "      <td>2009-12-01 11:34:00</td>\n",
       "      <td>3.75</td>\n",
       "      <td>16329.0</td>\n",
       "      <td>United Kingdom</td>\n",
       "    </tr>\n",
       "    <tr>\n",
       "      <th>385</th>\n",
       "      <td>489517</td>\n",
       "      <td>21821</td>\n",
       "      <td>GLITTER STAR GARLAND WITH BELLS</td>\n",
       "      <td>1</td>\n",
       "      <td>2009-12-01 11:34:00</td>\n",
       "      <td>3.75</td>\n",
       "      <td>16329.0</td>\n",
       "      <td>United Kingdom</td>\n",
       "    </tr>\n",
       "    <tr>\n",
       "      <th>373</th>\n",
       "      <td>489517</td>\n",
       "      <td>21912</td>\n",
       "      <td>VINTAGE SNAKES &amp; LADDERS</td>\n",
       "      <td>1</td>\n",
       "      <td>2009-12-01 11:34:00</td>\n",
       "      <td>3.75</td>\n",
       "      <td>16329.0</td>\n",
       "      <td>United Kingdom</td>\n",
       "    </tr>\n",
       "    <tr>\n",
       "      <th>...</th>\n",
       "      <td>...</td>\n",
       "      <td>...</td>\n",
       "      <td>...</td>\n",
       "      <td>...</td>\n",
       "      <td>...</td>\n",
       "      <td>...</td>\n",
       "      <td>...</td>\n",
       "      <td>...</td>\n",
       "    </tr>\n",
       "    <tr>\n",
       "      <th>1067153</th>\n",
       "      <td>581538</td>\n",
       "      <td>23275</td>\n",
       "      <td>SET OF 3 HANGING OWLS OLLIE BEAK</td>\n",
       "      <td>1</td>\n",
       "      <td>2011-12-09 11:34:00</td>\n",
       "      <td>1.25</td>\n",
       "      <td>14446.0</td>\n",
       "      <td>United Kingdom</td>\n",
       "    </tr>\n",
       "    <tr>\n",
       "      <th>1067119</th>\n",
       "      <td>581538</td>\n",
       "      <td>23318</td>\n",
       "      <td>BOX OF 6 MINI VINTAGE CRACKERS</td>\n",
       "      <td>1</td>\n",
       "      <td>2011-12-09 11:34:00</td>\n",
       "      <td>2.49</td>\n",
       "      <td>14446.0</td>\n",
       "      <td>United Kingdom</td>\n",
       "    </tr>\n",
       "    <tr>\n",
       "      <th>1067152</th>\n",
       "      <td>581538</td>\n",
       "      <td>23318</td>\n",
       "      <td>BOX OF 6 MINI VINTAGE CRACKERS</td>\n",
       "      <td>1</td>\n",
       "      <td>2011-12-09 11:34:00</td>\n",
       "      <td>2.49</td>\n",
       "      <td>14446.0</td>\n",
       "      <td>United Kingdom</td>\n",
       "    </tr>\n",
       "    <tr>\n",
       "      <th>1067099</th>\n",
       "      <td>581538</td>\n",
       "      <td>23343</td>\n",
       "      <td>JUMBO BAG VINTAGE CHRISTMAS</td>\n",
       "      <td>1</td>\n",
       "      <td>2011-12-09 11:34:00</td>\n",
       "      <td>2.08</td>\n",
       "      <td>14446.0</td>\n",
       "      <td>United Kingdom</td>\n",
       "    </tr>\n",
       "    <tr>\n",
       "      <th>1067108</th>\n",
       "      <td>581538</td>\n",
       "      <td>23343</td>\n",
       "      <td>JUMBO BAG VINTAGE CHRISTMAS</td>\n",
       "      <td>1</td>\n",
       "      <td>2011-12-09 11:34:00</td>\n",
       "      <td>2.08</td>\n",
       "      <td>14446.0</td>\n",
       "      <td>United Kingdom</td>\n",
       "    </tr>\n",
       "  </tbody>\n",
       "</table>\n",
       "<p>67242 rows × 8 columns</p>\n",
       "</div>"
      ],
      "text/plain": [
       "        Invoice StockCode                       Description  Quantity  \\\n",
       "370      489517     21491   SET OF THREE VINTAGE GIFT WRAPS         1   \n",
       "398      489517     21491   SET OF THREE VINTAGE GIFT WRAPS         1   \n",
       "366      489517     21821  GLITTER STAR GARLAND WITH BELLS          1   \n",
       "385      489517     21821  GLITTER STAR GARLAND WITH BELLS          1   \n",
       "373      489517     21912          VINTAGE SNAKES & LADDERS         1   \n",
       "...         ...       ...                               ...       ...   \n",
       "1067153  581538     23275  SET OF 3 HANGING OWLS OLLIE BEAK         1   \n",
       "1067119  581538     23318    BOX OF 6 MINI VINTAGE CRACKERS         1   \n",
       "1067152  581538     23318    BOX OF 6 MINI VINTAGE CRACKERS         1   \n",
       "1067099  581538     23343      JUMBO BAG VINTAGE CHRISTMAS          1   \n",
       "1067108  581538     23343      JUMBO BAG VINTAGE CHRISTMAS          1   \n",
       "\n",
       "                 InvoiceDate  Price  Customer ID         Country  \n",
       "370      2009-12-01 11:34:00   1.95      16329.0  United Kingdom  \n",
       "398      2009-12-01 11:34:00   1.95      16329.0  United Kingdom  \n",
       "366      2009-12-01 11:34:00   3.75      16329.0  United Kingdom  \n",
       "385      2009-12-01 11:34:00   3.75      16329.0  United Kingdom  \n",
       "373      2009-12-01 11:34:00   3.75      16329.0  United Kingdom  \n",
       "...                      ...    ...          ...             ...  \n",
       "1067153  2011-12-09 11:34:00   1.25      14446.0  United Kingdom  \n",
       "1067119  2011-12-09 11:34:00   2.49      14446.0  United Kingdom  \n",
       "1067152  2011-12-09 11:34:00   2.49      14446.0  United Kingdom  \n",
       "1067099  2011-12-09 11:34:00   2.08      14446.0  United Kingdom  \n",
       "1067108  2011-12-09 11:34:00   2.08      14446.0  United Kingdom  \n",
       "\n",
       "[67242 rows x 8 columns]"
      ]
     },
     "execution_count": 11,
     "metadata": {},
     "output_type": "execute_result"
    }
   ],
   "source": [
    "# visually inspect some of the duplicated rows in csv_data\n",
    "duplicated = csv_data[csv_data.duplicated(keep = False)].sort_values(by = ['InvoiceDate','Invoice','StockCode'])\n",
    "duplicated"
   ]
  },
  {
   "cell_type": "markdown",
   "metadata": {},
   "source": [
    "We can inspect the nature of this duplicated data by plotting the number of occurrences per month.\n",
    "This is shown below and it shows that much as there is duplicated records in all months, December 2010 stands out and points to something more going on in the data during that month.\n",
    "\n",
    "At this point, there would be two key questions about the dataset:\n",
    "1. Why is there what appears as duplicated records in transactions history?\n",
    "    One would expect that when more than 1 item of the same stockCode is being purchased by the customer, it would not create duplicates but just increment the Quantity - this seems the case in other transactions.\n",
    "2. What else is going on in December 2010?\n",
    "\n",
    "In the real world, these questions would be put to the data originators to ensure validity. In this case, regarding question (1) above, since duplicates appear fairly regulary through transaction history and there is no discernable pattern to them, I have assumed that perhaps there was a glitch in the system that didn't increment the Quantity but instead captured multi-buy items as different line items on the same invoice. As such, I will not be dropping these records out of the analysis."
   ]
  },
  {
   "cell_type": "code",
   "execution_count": 113,
   "metadata": {},
   "outputs": [
    {
     "data": {
      "image/png": "[encoded data removed]",
      "text/plain": [
       "<Figure size 640x480 with 1 Axes>"
      ]
     },
     "metadata": {},
     "output_type": "display_data"
    }
   ],
   "source": [
    "# add year_month column to duplicated data\n",
    "duplicated['year_month'] = duplicated['InvoiceDate'].apply(lambda x: x[:7])\n",
    "plt.figure()\n",
    "duplicated['year_month'].value_counts(sort = False).plot.bar()\n",
    "plt.title('Number of duplicated records in csv_data')\n",
    "plt.grid(which = 'major', axis = 'x')\n",
    "plt.show()"
   ]
  },
  {
   "cell_type": "markdown",
   "metadata": {},
   "source": [
    "Regarding question(2) above, I download the excel version of the dataset in two sheets `Year 2009-2010` and `Year 2010-2011` and use it to confirm that:\n",
    "- it represents the same dataset as csv_data above\n",
    "- the duplicates in December 2010 are due to merging data from two files that created an overlap\n",
    "\n",
    "I remove this data overlap from the dataset as the first part of cleaning the data"
   ]
  },
  {
   "cell_type": "code",
   "execution_count": 13,
   "metadata": {},
   "outputs": [
    {
     "name": "stdout",
     "output_type": "stream",
     "text": [
      "<class 'pandas.core.frame.DataFrame'>\n",
      "Int64Index: 1067371 entries, 0 to 541909\n",
      "Data columns (total 8 columns):\n",
      " #   Column       Non-Null Count    Dtype         \n",
      "---  ------       --------------    -----         \n",
      " 0   Invoice      1067371 non-null  object        \n",
      " 1   StockCode    1067371 non-null  object        \n",
      " 2   Description  1062989 non-null  object        \n",
      " 3   Quantity     1067371 non-null  int64         \n",
      " 4   InvoiceDate  1067371 non-null  datetime64[ns]\n",
      " 5   Price        1067371 non-null  float64       \n",
      " 6   Customer ID  824364 non-null   float64       \n",
      " 7   Country      1067371 non-null  object        \n",
      "dtypes: datetime64[ns](1), float64(2), int64(1), object(4)\n",
      "memory usage: 73.3+ MB\n"
     ]
    }
   ],
   "source": [
    "# read the excel data from the two sheets and concatenate into one dataset\n",
    "excel_data_part1 = pd.read_excel('./dataset/online_retail_II.xlsx', sheet_name = 'Year 2009-2010')\n",
    "excel_data_part2 = pd.read_excel('./dataset/online_retail_II.xlsx', sheet_name = 'Year 2010-2011')\n",
    "# merged excel_data\n",
    "excel_data = pd.concat([excel_data_part1, excel_data_part2])\n",
    "excel_data.info()"
   ]
  },
  {
   "cell_type": "markdown",
   "metadata": {},
   "source": [
    "We can see the excel_data contains exactly the same number of rows 1,067,371 as csv_data.  \n",
    "We can confirm that there is data overlap at the end of `Year 2009-2010` and the beginning of `Year 2010-2011`"
   ]
  },
  {
   "cell_type": "code",
   "execution_count": 14,
   "metadata": {},
   "outputs": [
    {
     "name": "stdout",
     "output_type": "stream",
     "text": [
      "Final date in part1 of the dataset 2010-12-09 20:01:00\n",
      "Start date of part2 of the dataset 2010-12-01 08:26:00\n"
     ]
    }
   ],
   "source": [
    "excel_data_part1_maxDate = excel_data_part1['InvoiceDate'].max() # last date in first part of dataset\n",
    "excel_data_part2_minDate = excel_data_part2['InvoiceDate'].min() # start date of the second part of the dataset\n",
    "print('Final date in part1 of the dataset', excel_data_part1_maxDate)\n",
    "print('Start date of part2 of the dataset', excel_data_part2_minDate)"
   ]
  },
  {
   "cell_type": "markdown",
   "metadata": {},
   "source": [
    "Here we confirm that there are 9 days of transactions data overlap between the two files which shows up as unusually high duplicated data in the csv_data plotted in `Number of duplicated records in csv_data` above. \n",
    "\n",
    "We can look a few lines of overlapped data below"
   ]
  },
  {
   "cell_type": "code",
   "execution_count": 15,
   "metadata": {},
   "outputs": [
    {
     "data": {
      "text/html": [
       "<div>\n",
       "<style scoped>\n",
       "    .dataframe tbody tr th:only-of-type {\n",
       "        vertical-align: middle;\n",
       "    }\n",
       "\n",
       "    .dataframe tbody tr th {\n",
       "        vertical-align: top;\n",
       "    }\n",
       "\n",
       "    .dataframe thead th {\n",
       "        text-align: right;\n",
       "    }\n",
       "</style>\n",
       "<table border=\"1\" class=\"dataframe\">\n",
       "  <thead>\n",
       "    <tr style=\"text-align: right;\">\n",
       "      <th></th>\n",
       "      <th>Invoice</th>\n",
       "      <th>StockCode</th>\n",
       "      <th>Description</th>\n",
       "      <th>Quantity</th>\n",
       "      <th>InvoiceDate</th>\n",
       "      <th>Price</th>\n",
       "      <th>Customer ID</th>\n",
       "      <th>Country</th>\n",
       "    </tr>\n",
       "  </thead>\n",
       "  <tbody>\n",
       "    <tr>\n",
       "      <th>502938</th>\n",
       "      <td>536365</td>\n",
       "      <td>85123A</td>\n",
       "      <td>WHITE HANGING HEART T-LIGHT HOLDER</td>\n",
       "      <td>6</td>\n",
       "      <td>2010-12-01 08:26:00</td>\n",
       "      <td>2.55</td>\n",
       "      <td>17850.0</td>\n",
       "      <td>United Kingdom</td>\n",
       "    </tr>\n",
       "    <tr>\n",
       "      <th>502939</th>\n",
       "      <td>536365</td>\n",
       "      <td>71053</td>\n",
       "      <td>WHITE METAL LANTERN</td>\n",
       "      <td>6</td>\n",
       "      <td>2010-12-01 08:26:00</td>\n",
       "      <td>3.39</td>\n",
       "      <td>17850.0</td>\n",
       "      <td>United Kingdom</td>\n",
       "    </tr>\n",
       "    <tr>\n",
       "      <th>502940</th>\n",
       "      <td>536365</td>\n",
       "      <td>84406B</td>\n",
       "      <td>CREAM CUPID HEARTS COAT HANGER</td>\n",
       "      <td>8</td>\n",
       "      <td>2010-12-01 08:26:00</td>\n",
       "      <td>2.75</td>\n",
       "      <td>17850.0</td>\n",
       "      <td>United Kingdom</td>\n",
       "    </tr>\n",
       "    <tr>\n",
       "      <th>502941</th>\n",
       "      <td>536365</td>\n",
       "      <td>84029G</td>\n",
       "      <td>KNITTED UNION FLAG HOT WATER BOTTLE</td>\n",
       "      <td>6</td>\n",
       "      <td>2010-12-01 08:26:00</td>\n",
       "      <td>3.39</td>\n",
       "      <td>17850.0</td>\n",
       "      <td>United Kingdom</td>\n",
       "    </tr>\n",
       "    <tr>\n",
       "      <th>502942</th>\n",
       "      <td>536365</td>\n",
       "      <td>84029E</td>\n",
       "      <td>RED WOOLLY HOTTIE WHITE HEART.</td>\n",
       "      <td>6</td>\n",
       "      <td>2010-12-01 08:26:00</td>\n",
       "      <td>3.39</td>\n",
       "      <td>17850.0</td>\n",
       "      <td>United Kingdom</td>\n",
       "    </tr>\n",
       "  </tbody>\n",
       "</table>\n",
       "</div>"
      ],
      "text/plain": [
       "       Invoice StockCode                          Description  Quantity  \\\n",
       "502938  536365    85123A   WHITE HANGING HEART T-LIGHT HOLDER         6   \n",
       "502939  536365     71053                  WHITE METAL LANTERN         6   \n",
       "502940  536365    84406B       CREAM CUPID HEARTS COAT HANGER         8   \n",
       "502941  536365    84029G  KNITTED UNION FLAG HOT WATER BOTTLE         6   \n",
       "502942  536365    84029E       RED WOOLLY HOTTIE WHITE HEART.         6   \n",
       "\n",
       "               InvoiceDate  Price  Customer ID         Country  \n",
       "502938 2010-12-01 08:26:00   2.55      17850.0  United Kingdom  \n",
       "502939 2010-12-01 08:26:00   3.39      17850.0  United Kingdom  \n",
       "502940 2010-12-01 08:26:00   2.75      17850.0  United Kingdom  \n",
       "502941 2010-12-01 08:26:00   3.39      17850.0  United Kingdom  \n",
       "502942 2010-12-01 08:26:00   3.39      17850.0  United Kingdom  "
      ]
     },
     "execution_count": 15,
     "metadata": {},
     "output_type": "execute_result"
    }
   ],
   "source": [
    "#first few lines from Dec 2010 from the sheet Year 2009-2010\n",
    "excel_data_part1[excel_data_part1['InvoiceDate'] >= dt.datetime(2010,12,1)].sort_values(by = 'InvoiceDate').head()"
   ]
  },
  {
   "cell_type": "code",
   "execution_count": 16,
   "metadata": {},
   "outputs": [
    {
     "data": {
      "text/html": [
       "<div>\n",
       "<style scoped>\n",
       "    .dataframe tbody tr th:only-of-type {\n",
       "        vertical-align: middle;\n",
       "    }\n",
       "\n",
       "    .dataframe tbody tr th {\n",
       "        vertical-align: top;\n",
       "    }\n",
       "\n",
       "    .dataframe thead th {\n",
       "        text-align: right;\n",
       "    }\n",
       "</style>\n",
       "<table border=\"1\" class=\"dataframe\">\n",
       "  <thead>\n",
       "    <tr style=\"text-align: right;\">\n",
       "      <th></th>\n",
       "      <th>Invoice</th>\n",
       "      <th>StockCode</th>\n",
       "      <th>Description</th>\n",
       "      <th>Quantity</th>\n",
       "      <th>InvoiceDate</th>\n",
       "      <th>Price</th>\n",
       "      <th>Customer ID</th>\n",
       "      <th>Country</th>\n",
       "    </tr>\n",
       "  </thead>\n",
       "  <tbody>\n",
       "    <tr>\n",
       "      <th>0</th>\n",
       "      <td>536365</td>\n",
       "      <td>85123A</td>\n",
       "      <td>WHITE HANGING HEART T-LIGHT HOLDER</td>\n",
       "      <td>6</td>\n",
       "      <td>2010-12-01 08:26:00</td>\n",
       "      <td>2.55</td>\n",
       "      <td>17850.0</td>\n",
       "      <td>United Kingdom</td>\n",
       "    </tr>\n",
       "    <tr>\n",
       "      <th>1</th>\n",
       "      <td>536365</td>\n",
       "      <td>71053</td>\n",
       "      <td>WHITE METAL LANTERN</td>\n",
       "      <td>6</td>\n",
       "      <td>2010-12-01 08:26:00</td>\n",
       "      <td>3.39</td>\n",
       "      <td>17850.0</td>\n",
       "      <td>United Kingdom</td>\n",
       "    </tr>\n",
       "    <tr>\n",
       "      <th>2</th>\n",
       "      <td>536365</td>\n",
       "      <td>84406B</td>\n",
       "      <td>CREAM CUPID HEARTS COAT HANGER</td>\n",
       "      <td>8</td>\n",
       "      <td>2010-12-01 08:26:00</td>\n",
       "      <td>2.75</td>\n",
       "      <td>17850.0</td>\n",
       "      <td>United Kingdom</td>\n",
       "    </tr>\n",
       "    <tr>\n",
       "      <th>3</th>\n",
       "      <td>536365</td>\n",
       "      <td>84029G</td>\n",
       "      <td>KNITTED UNION FLAG HOT WATER BOTTLE</td>\n",
       "      <td>6</td>\n",
       "      <td>2010-12-01 08:26:00</td>\n",
       "      <td>3.39</td>\n",
       "      <td>17850.0</td>\n",
       "      <td>United Kingdom</td>\n",
       "    </tr>\n",
       "    <tr>\n",
       "      <th>4</th>\n",
       "      <td>536365</td>\n",
       "      <td>84029E</td>\n",
       "      <td>RED WOOLLY HOTTIE WHITE HEART.</td>\n",
       "      <td>6</td>\n",
       "      <td>2010-12-01 08:26:00</td>\n",
       "      <td>3.39</td>\n",
       "      <td>17850.0</td>\n",
       "      <td>United Kingdom</td>\n",
       "    </tr>\n",
       "  </tbody>\n",
       "</table>\n",
       "</div>"
      ],
      "text/plain": [
       "  Invoice StockCode                          Description  Quantity  \\\n",
       "0  536365    85123A   WHITE HANGING HEART T-LIGHT HOLDER         6   \n",
       "1  536365     71053                  WHITE METAL LANTERN         6   \n",
       "2  536365    84406B       CREAM CUPID HEARTS COAT HANGER         8   \n",
       "3  536365    84029G  KNITTED UNION FLAG HOT WATER BOTTLE         6   \n",
       "4  536365    84029E       RED WOOLLY HOTTIE WHITE HEART.         6   \n",
       "\n",
       "          InvoiceDate  Price  Customer ID         Country  \n",
       "0 2010-12-01 08:26:00   2.55      17850.0  United Kingdom  \n",
       "1 2010-12-01 08:26:00   3.39      17850.0  United Kingdom  \n",
       "2 2010-12-01 08:26:00   2.75      17850.0  United Kingdom  \n",
       "3 2010-12-01 08:26:00   3.39      17850.0  United Kingdom  \n",
       "4 2010-12-01 08:26:00   3.39      17850.0  United Kingdom  "
      ]
     },
     "execution_count": 16,
     "metadata": {},
     "output_type": "execute_result"
    }
   ],
   "source": [
    "# start of the data in Year 2010-2011\n",
    "excel_data_part2.head()"
   ]
  },
  {
   "cell_type": "markdown",
   "metadata": {},
   "source": [
    "We remove this overlap in the dataset and concatenate the data into a dataframe to explore further."
   ]
  },
  {
   "cell_type": "code",
   "execution_count": 17,
   "metadata": {},
   "outputs": [
    {
     "data": {
      "text/plain": [
       "(1044848, 8)"
      ]
     },
     "execution_count": 17,
     "metadata": {},
     "output_type": "execute_result"
    }
   ],
   "source": [
    "df = pd.concat(\n",
    "    [excel_data_part1[excel_data_part1['InvoiceDate'] < excel_data_part2_minDate],\n",
    "     excel_data_part2\n",
    "    ])\n",
    "df.shape"
   ]
  },
  {
   "cell_type": "code",
   "execution_count": 18,
   "metadata": {},
   "outputs": [
    {
     "name": "stdout",
     "output_type": "stream",
     "text": [
      "The number of duplicate data records:  11812\n"
     ]
    }
   ],
   "source": [
    "print('The number of duplicate data records: ', df.sort_values(by = 'InvoiceDate').duplicated().sum())"
   ]
  },
  {
   "cell_type": "markdown",
   "metadata": {},
   "source": [
    "There is 11,812 duplicates remaining in the data and the distribution per month is shown below."
   ]
  },
  {
   "cell_type": "code",
   "execution_count": 114,
   "metadata": {},
   "outputs": [
    {
     "data": {
      "image/png": "[encoded data removed]",
      "text/plain": [
       "<Figure size 640x480 with 1 Axes>"
      ]
     },
     "metadata": {},
     "output_type": "display_data"
    }
   ],
   "source": [
    "duplicated_df = df[df.duplicated(keep = False)].sort_values(by = ['InvoiceDate','Invoice','StockCode'])\n",
    "# add year_month column to duplicated data\n",
    "duplicated_df['year_month'] = duplicated_df['InvoiceDate'].dt.to_period('M')\n",
    "plt.figure()\n",
    "duplicated_df['year_month'].value_counts(sort = False).plot.bar()\n",
    "plt.title('Duplicates in the cleaned dataset')\n",
    "plt.grid(which = 'major', axis = 'x')\n",
    "plt.show()"
   ]
  },
  {
   "cell_type": "code",
   "execution_count": 20,
   "metadata": {
    "pycharm": {
     "name": "#%%\n"
    }
   },
   "outputs": [
    {
     "name": "stdout",
     "output_type": "stream",
     "text": [
      "<class 'pandas.core.frame.DataFrame'>\n",
      "Int64Index: 1044848 entries, 0 to 541909\n",
      "Data columns (total 8 columns):\n",
      " #   Column       Non-Null Count    Dtype         \n",
      "---  ------       --------------    -----         \n",
      " 0   Invoice      1044848 non-null  object        \n",
      " 1   StockCode    1044848 non-null  object        \n",
      " 2   Description  1040573 non-null  object        \n",
      " 3   Quantity     1044848 non-null  int64         \n",
      " 4   InvoiceDate  1044848 non-null  datetime64[ns]\n",
      " 5   Price        1044848 non-null  float64       \n",
      " 6   Customer ID  809561 non-null   float64       \n",
      " 7   Country      1044848 non-null  object        \n",
      "dtypes: datetime64[ns](1), float64(2), int64(1), object(4)\n",
      "memory usage: 71.7+ MB\n"
     ]
    }
   ],
   "source": [
    "df.info()"
   ]
  },
  {
   "cell_type": "code",
   "execution_count": 21,
   "metadata": {},
   "outputs": [
    {
     "data": {
      "text/html": [
       "<div>\n",
       "<style scoped>\n",
       "    .dataframe tbody tr th:only-of-type {\n",
       "        vertical-align: middle;\n",
       "    }\n",
       "\n",
       "    .dataframe tbody tr th {\n",
       "        vertical-align: top;\n",
       "    }\n",
       "\n",
       "    .dataframe thead th {\n",
       "        text-align: right;\n",
       "    }\n",
       "</style>\n",
       "<table border=\"1\" class=\"dataframe\">\n",
       "  <thead>\n",
       "    <tr style=\"text-align: right;\">\n",
       "      <th></th>\n",
       "      <th>Quantity</th>\n",
       "      <th>Price</th>\n",
       "      <th>Customer ID</th>\n",
       "    </tr>\n",
       "  </thead>\n",
       "  <tbody>\n",
       "    <tr>\n",
       "      <th>count</th>\n",
       "      <td>1.044848e+06</td>\n",
       "      <td>1.044848e+06</td>\n",
       "      <td>809561.000000</td>\n",
       "    </tr>\n",
       "    <tr>\n",
       "      <th>mean</th>\n",
       "      <td>9.993649e+00</td>\n",
       "      <td>4.590546e+00</td>\n",
       "      <td>15319.760422</td>\n",
       "    </tr>\n",
       "    <tr>\n",
       "      <th>std</th>\n",
       "      <td>1.742185e+02</td>\n",
       "      <td>1.217042e+02</td>\n",
       "      <td>1695.812057</td>\n",
       "    </tr>\n",
       "    <tr>\n",
       "      <th>min</th>\n",
       "      <td>-8.099500e+04</td>\n",
       "      <td>-5.359436e+04</td>\n",
       "      <td>12346.000000</td>\n",
       "    </tr>\n",
       "    <tr>\n",
       "      <th>25%</th>\n",
       "      <td>1.000000e+00</td>\n",
       "      <td>1.250000e+00</td>\n",
       "      <td>13969.000000</td>\n",
       "    </tr>\n",
       "    <tr>\n",
       "      <th>50%</th>\n",
       "      <td>3.000000e+00</td>\n",
       "      <td>2.100000e+00</td>\n",
       "      <td>15248.000000</td>\n",
       "    </tr>\n",
       "    <tr>\n",
       "      <th>75%</th>\n",
       "      <td>1.000000e+01</td>\n",
       "      <td>4.130000e+00</td>\n",
       "      <td>16792.000000</td>\n",
       "    </tr>\n",
       "    <tr>\n",
       "      <th>max</th>\n",
       "      <td>8.099500e+04</td>\n",
       "      <td>3.897000e+04</td>\n",
       "      <td>18287.000000</td>\n",
       "    </tr>\n",
       "  </tbody>\n",
       "</table>\n",
       "</div>"
      ],
      "text/plain": [
       "           Quantity         Price    Customer ID\n",
       "count  1.044848e+06  1.044848e+06  809561.000000\n",
       "mean   9.993649e+00  4.590546e+00   15319.760422\n",
       "std    1.742185e+02  1.217042e+02    1695.812057\n",
       "min   -8.099500e+04 -5.359436e+04   12346.000000\n",
       "25%    1.000000e+00  1.250000e+00   13969.000000\n",
       "50%    3.000000e+00  2.100000e+00   15248.000000\n",
       "75%    1.000000e+01  4.130000e+00   16792.000000\n",
       "max    8.099500e+04  3.897000e+04   18287.000000"
      ]
     },
     "execution_count": 21,
     "metadata": {},
     "output_type": "execute_result"
    }
   ],
   "source": [
    "df.describe()"
   ]
  },
  {
   "cell_type": "markdown",
   "metadata": {},
   "source": [
    "## 5. Exploring data in each column <a class=\"anchor\" id=\"colum_descr\"></a>"
   ]
  },
  {
   "cell_type": "markdown",
   "metadata": {
    "pycharm": {
     "name": "#%% md\n"
    }
   },
   "source": [
    "### 5.1 Invoice <a class=\"anchor\" id=\"invoice\"></a>\n",
    "In the data description, if `Invoice` starts with the letter 'c', it indicates a cancellation. But, what are other letter codes are in the Invoice and what do they mean?\n",
    "\n",
    "Below, we shall check the non-int characters and their positions in the `Invoice` entries.  \n",
    " "
   ]
  },
  {
   "cell_type": "code",
   "execution_count": 22,
   "metadata": {
    "pycharm": {
     "name": "#%%\n"
    }
   },
   "outputs": [],
   "source": [
    "def check_codes(df, col):\n",
    "    '''\n",
    "    check for non-int characters and their positions in string entries in col\n",
    "    takes a dataframe, col. returns unique non-int characters and their positions\n",
    "    '''\n",
    "    string_positions = defaultdict(int)\n",
    "    # check if the character in  string converts to int,\n",
    "    # if valueError, add the character and its position to string_positions dict\n",
    "    for item in df[col].values:\n",
    "        item = str(item)  # make sure it is string\n",
    "        for char in item:\n",
    "            try:\n",
    "                is_int = int(char)\n",
    "            except ValueError:\n",
    "                string_positions[(char, item.index(char))] += 1\n",
    "    return string_positions\n",
    "\n"
   ]
  },
  {
   "cell_type": "code",
   "execution_count": 23,
   "metadata": {
    "pycharm": {
     "name": "#%%\n"
    }
   },
   "outputs": [
    {
     "name": "stdout",
     "output_type": "stream",
     "text": [
      "The length of each Invoice\n",
      "6    1025677\n",
      "7      19171\n",
      "Name: Invoice, dtype: int64\n",
      "The non-Int characters and their positions within Invoice defaultdict(<class 'int'>, {('C', 0): 19165, ('A', 0): 6})\n"
     ]
    }
   ],
   "source": [
    "# structure of the Invoice column\n",
    "invoice_col_len = df['Invoice'].apply(lambda x: len(str(x)))  # length of entries\n",
    "print('The length of each Invoice')\n",
    "print(invoice_col_len.value_counts())\n",
    "print('The non-Int characters and their positions within Invoice', check_codes(df, 'Invoice'))"
   ]
  },
  {
   "cell_type": "markdown",
   "metadata": {},
   "source": [
    "    \n",
    "      "
   ]
  },
  {
   "cell_type": "markdown",
   "metadata": {
    "pycharm": {
     "name": "#%% md\n"
    }
   },
   "source": [
    "We can now see that the `Invoice` Column contains 6 or 7 character strings. The 7 character string, 19,165 (1.9%) mostly begin with **C** with only 6 beginning with letter **A**.   \n",
    "\n",
    "Looking at these records of data that start with **A** or **C**, we can make the following observations:\n",
    "- Records with Invoice beginning with **A** \n",
    "    - represent an adjustment for bad debt and are not associated to any Customer ID\n",
    "    - mostly associated with large negative `Price` value and `Quantity` of 1. Although this is not always the case. See Invoice `A563186`\n",
    "    - There is some entries that are clearly related but not exactly duplicates. `A563185`, `A563186`, and `A563187`\n",
    "    - It appears that these adjustments are not directly related to product sales but some accounting procedure. We shall make this assumption in the follow up analysis.\n",
    "- Records with Invoice starting with **C**\n",
    "    - This appear to be associated with negative values of `Quantity`, although not always. see Invoice `C496350` below. It is important to note that when Invoice starts with **C** but `Quantity` is positive, then Customer ID is null.\n",
    "\n",
    "Other authors (Bayer, <a href=\"https://www.kaggle.com/code/ekrembayar/rfm-analysis-online-retail-ii\">2019</a>) who have used this data confirm that `Invoices` starting with **C** represent items that were returned. However, nothing is mentioned of the invoices starting with letter **A**. "
   ]
  },
  {
   "cell_type": "code",
   "execution_count": 24,
   "metadata": {
    "pycharm": {
     "name": "#%%\n"
    }
   },
   "outputs": [
    {
     "data": {
      "text/html": [
       "<div>\n",
       "<style scoped>\n",
       "    .dataframe tbody tr th:only-of-type {\n",
       "        vertical-align: middle;\n",
       "    }\n",
       "\n",
       "    .dataframe tbody tr th {\n",
       "        vertical-align: top;\n",
       "    }\n",
       "\n",
       "    .dataframe thead th {\n",
       "        text-align: right;\n",
       "    }\n",
       "</style>\n",
       "<table border=\"1\" class=\"dataframe\">\n",
       "  <thead>\n",
       "    <tr style=\"text-align: right;\">\n",
       "      <th></th>\n",
       "      <th>Invoice</th>\n",
       "      <th>StockCode</th>\n",
       "      <th>Description</th>\n",
       "      <th>Quantity</th>\n",
       "      <th>InvoiceDate</th>\n",
       "      <th>Price</th>\n",
       "      <th>Customer ID</th>\n",
       "      <th>Country</th>\n",
       "    </tr>\n",
       "  </thead>\n",
       "  <tbody>\n",
       "    <tr>\n",
       "      <th>179403</th>\n",
       "      <td>A506401</td>\n",
       "      <td>B</td>\n",
       "      <td>Adjust bad debt</td>\n",
       "      <td>1</td>\n",
       "      <td>2010-04-29 13:36:00</td>\n",
       "      <td>-53594.36</td>\n",
       "      <td>NaN</td>\n",
       "      <td>United Kingdom</td>\n",
       "    </tr>\n",
       "    <tr>\n",
       "      <th>276274</th>\n",
       "      <td>A516228</td>\n",
       "      <td>B</td>\n",
       "      <td>Adjust bad debt</td>\n",
       "      <td>1</td>\n",
       "      <td>2010-07-19 11:24:00</td>\n",
       "      <td>-44031.79</td>\n",
       "      <td>NaN</td>\n",
       "      <td>United Kingdom</td>\n",
       "    </tr>\n",
       "    <tr>\n",
       "      <th>403472</th>\n",
       "      <td>A528059</td>\n",
       "      <td>B</td>\n",
       "      <td>Adjust bad debt</td>\n",
       "      <td>1</td>\n",
       "      <td>2010-10-20 12:04:00</td>\n",
       "      <td>-38925.87</td>\n",
       "      <td>NaN</td>\n",
       "      <td>United Kingdom</td>\n",
       "    </tr>\n",
       "    <tr>\n",
       "      <th>299982</th>\n",
       "      <td>A563185</td>\n",
       "      <td>B</td>\n",
       "      <td>Adjust bad debt</td>\n",
       "      <td>1</td>\n",
       "      <td>2011-08-12 14:50:00</td>\n",
       "      <td>11062.06</td>\n",
       "      <td>NaN</td>\n",
       "      <td>United Kingdom</td>\n",
       "    </tr>\n",
       "    <tr>\n",
       "      <th>299983</th>\n",
       "      <td>A563186</td>\n",
       "      <td>B</td>\n",
       "      <td>Adjust bad debt</td>\n",
       "      <td>1</td>\n",
       "      <td>2011-08-12 14:51:00</td>\n",
       "      <td>-11062.06</td>\n",
       "      <td>NaN</td>\n",
       "      <td>United Kingdom</td>\n",
       "    </tr>\n",
       "    <tr>\n",
       "      <th>299984</th>\n",
       "      <td>A563187</td>\n",
       "      <td>B</td>\n",
       "      <td>Adjust bad debt</td>\n",
       "      <td>1</td>\n",
       "      <td>2011-08-12 14:52:00</td>\n",
       "      <td>-11062.06</td>\n",
       "      <td>NaN</td>\n",
       "      <td>United Kingdom</td>\n",
       "    </tr>\n",
       "  </tbody>\n",
       "</table>\n",
       "</div>"
      ],
      "text/plain": [
       "        Invoice StockCode      Description  Quantity         InvoiceDate  \\\n",
       "179403  A506401         B  Adjust bad debt         1 2010-04-29 13:36:00   \n",
       "276274  A516228         B  Adjust bad debt         1 2010-07-19 11:24:00   \n",
       "403472  A528059         B  Adjust bad debt         1 2010-10-20 12:04:00   \n",
       "299982  A563185         B  Adjust bad debt         1 2011-08-12 14:50:00   \n",
       "299983  A563186         B  Adjust bad debt         1 2011-08-12 14:51:00   \n",
       "299984  A563187         B  Adjust bad debt         1 2011-08-12 14:52:00   \n",
       "\n",
       "           Price  Customer ID         Country  \n",
       "179403 -53594.36          NaN  United Kingdom  \n",
       "276274 -44031.79          NaN  United Kingdom  \n",
       "403472 -38925.87          NaN  United Kingdom  \n",
       "299982  11062.06          NaN  United Kingdom  \n",
       "299983 -11062.06          NaN  United Kingdom  \n",
       "299984 -11062.06          NaN  United Kingdom  "
      ]
     },
     "execution_count": 24,
     "metadata": {},
     "output_type": "execute_result"
    }
   ],
   "source": [
    "# records with Invoice starting with 'C'\n",
    "df[df['Invoice'].str.contains('A', na = False)]"
   ]
  },
  {
   "cell_type": "code",
   "execution_count": 25,
   "metadata": {},
   "outputs": [
    {
     "data": {
      "text/html": [
       "<div>\n",
       "<style scoped>\n",
       "    .dataframe tbody tr th:only-of-type {\n",
       "        vertical-align: middle;\n",
       "    }\n",
       "\n",
       "    .dataframe tbody tr th {\n",
       "        vertical-align: top;\n",
       "    }\n",
       "\n",
       "    .dataframe thead th {\n",
       "        text-align: right;\n",
       "    }\n",
       "</style>\n",
       "<table border=\"1\" class=\"dataframe\">\n",
       "  <thead>\n",
       "    <tr style=\"text-align: right;\">\n",
       "      <th></th>\n",
       "      <th>Invoice</th>\n",
       "      <th>StockCode</th>\n",
       "      <th>Description</th>\n",
       "      <th>Quantity</th>\n",
       "      <th>InvoiceDate</th>\n",
       "      <th>Price</th>\n",
       "      <th>Customer ID</th>\n",
       "      <th>Country</th>\n",
       "    </tr>\n",
       "  </thead>\n",
       "  <tbody>\n",
       "    <tr>\n",
       "      <th>178</th>\n",
       "      <td>C489449</td>\n",
       "      <td>22087</td>\n",
       "      <td>PAPER BUNTING WHITE LACE</td>\n",
       "      <td>-12</td>\n",
       "      <td>2009-12-01 10:33:00</td>\n",
       "      <td>2.95</td>\n",
       "      <td>16321.0</td>\n",
       "      <td>Australia</td>\n",
       "    </tr>\n",
       "    <tr>\n",
       "      <th>179</th>\n",
       "      <td>C489449</td>\n",
       "      <td>85206A</td>\n",
       "      <td>CREAM FELT EASTER EGG BASKET</td>\n",
       "      <td>-6</td>\n",
       "      <td>2009-12-01 10:33:00</td>\n",
       "      <td>1.65</td>\n",
       "      <td>16321.0</td>\n",
       "      <td>Australia</td>\n",
       "    </tr>\n",
       "    <tr>\n",
       "      <th>180</th>\n",
       "      <td>C489449</td>\n",
       "      <td>21895</td>\n",
       "      <td>POTTING SHED SOW 'N' GROW SET</td>\n",
       "      <td>-4</td>\n",
       "      <td>2009-12-01 10:33:00</td>\n",
       "      <td>4.25</td>\n",
       "      <td>16321.0</td>\n",
       "      <td>Australia</td>\n",
       "    </tr>\n",
       "    <tr>\n",
       "      <th>181</th>\n",
       "      <td>C489449</td>\n",
       "      <td>21896</td>\n",
       "      <td>POTTING SHED TWINE</td>\n",
       "      <td>-6</td>\n",
       "      <td>2009-12-01 10:33:00</td>\n",
       "      <td>2.10</td>\n",
       "      <td>16321.0</td>\n",
       "      <td>Australia</td>\n",
       "    </tr>\n",
       "    <tr>\n",
       "      <th>182</th>\n",
       "      <td>C489449</td>\n",
       "      <td>22083</td>\n",
       "      <td>PAPER CHAIN KIT RETRO SPOT</td>\n",
       "      <td>-12</td>\n",
       "      <td>2009-12-01 10:33:00</td>\n",
       "      <td>2.95</td>\n",
       "      <td>16321.0</td>\n",
       "      <td>Australia</td>\n",
       "    </tr>\n",
       "    <tr>\n",
       "      <th>...</th>\n",
       "      <td>...</td>\n",
       "      <td>...</td>\n",
       "      <td>...</td>\n",
       "      <td>...</td>\n",
       "      <td>...</td>\n",
       "      <td>...</td>\n",
       "      <td>...</td>\n",
       "      <td>...</td>\n",
       "    </tr>\n",
       "    <tr>\n",
       "      <th>540449</th>\n",
       "      <td>C581490</td>\n",
       "      <td>23144</td>\n",
       "      <td>ZINC T-LIGHT HOLDER STARS SMALL</td>\n",
       "      <td>-11</td>\n",
       "      <td>2011-12-09 09:57:00</td>\n",
       "      <td>0.83</td>\n",
       "      <td>14397.0</td>\n",
       "      <td>United Kingdom</td>\n",
       "    </tr>\n",
       "    <tr>\n",
       "      <th>541541</th>\n",
       "      <td>C581499</td>\n",
       "      <td>M</td>\n",
       "      <td>Manual</td>\n",
       "      <td>-1</td>\n",
       "      <td>2011-12-09 10:28:00</td>\n",
       "      <td>224.69</td>\n",
       "      <td>15498.0</td>\n",
       "      <td>United Kingdom</td>\n",
       "    </tr>\n",
       "    <tr>\n",
       "      <th>541715</th>\n",
       "      <td>C581568</td>\n",
       "      <td>21258</td>\n",
       "      <td>VICTORIAN SEWING BOX LARGE</td>\n",
       "      <td>-5</td>\n",
       "      <td>2011-12-09 11:57:00</td>\n",
       "      <td>10.95</td>\n",
       "      <td>15311.0</td>\n",
       "      <td>United Kingdom</td>\n",
       "    </tr>\n",
       "    <tr>\n",
       "      <th>541716</th>\n",
       "      <td>C581569</td>\n",
       "      <td>84978</td>\n",
       "      <td>HANGING HEART JAR T-LIGHT HOLDER</td>\n",
       "      <td>-1</td>\n",
       "      <td>2011-12-09 11:58:00</td>\n",
       "      <td>1.25</td>\n",
       "      <td>17315.0</td>\n",
       "      <td>United Kingdom</td>\n",
       "    </tr>\n",
       "    <tr>\n",
       "      <th>541717</th>\n",
       "      <td>C581569</td>\n",
       "      <td>20979</td>\n",
       "      <td>36 PENCILS TUBE RED RETROSPOT</td>\n",
       "      <td>-5</td>\n",
       "      <td>2011-12-09 11:58:00</td>\n",
       "      <td>1.25</td>\n",
       "      <td>17315.0</td>\n",
       "      <td>United Kingdom</td>\n",
       "    </tr>\n",
       "  </tbody>\n",
       "</table>\n",
       "<p>19165 rows × 8 columns</p>\n",
       "</div>"
      ],
      "text/plain": [
       "        Invoice StockCode                       Description  Quantity  \\\n",
       "178     C489449     22087          PAPER BUNTING WHITE LACE       -12   \n",
       "179     C489449    85206A      CREAM FELT EASTER EGG BASKET        -6   \n",
       "180     C489449     21895     POTTING SHED SOW 'N' GROW SET        -4   \n",
       "181     C489449     21896                POTTING SHED TWINE        -6   \n",
       "182     C489449     22083        PAPER CHAIN KIT RETRO SPOT       -12   \n",
       "...         ...       ...                               ...       ...   \n",
       "540449  C581490     23144   ZINC T-LIGHT HOLDER STARS SMALL       -11   \n",
       "541541  C581499         M                            Manual        -1   \n",
       "541715  C581568     21258        VICTORIAN SEWING BOX LARGE        -5   \n",
       "541716  C581569     84978  HANGING HEART JAR T-LIGHT HOLDER        -1   \n",
       "541717  C581569     20979     36 PENCILS TUBE RED RETROSPOT        -5   \n",
       "\n",
       "               InvoiceDate   Price  Customer ID         Country  \n",
       "178    2009-12-01 10:33:00    2.95      16321.0       Australia  \n",
       "179    2009-12-01 10:33:00    1.65      16321.0       Australia  \n",
       "180    2009-12-01 10:33:00    4.25      16321.0       Australia  \n",
       "181    2009-12-01 10:33:00    2.10      16321.0       Australia  \n",
       "182    2009-12-01 10:33:00    2.95      16321.0       Australia  \n",
       "...                    ...     ...          ...             ...  \n",
       "540449 2011-12-09 09:57:00    0.83      14397.0  United Kingdom  \n",
       "541541 2011-12-09 10:28:00  224.69      15498.0  United Kingdom  \n",
       "541715 2011-12-09 11:57:00   10.95      15311.0  United Kingdom  \n",
       "541716 2011-12-09 11:58:00    1.25      17315.0  United Kingdom  \n",
       "541717 2011-12-09 11:58:00    1.25      17315.0  United Kingdom  \n",
       "\n",
       "[19165 rows x 8 columns]"
      ]
     },
     "execution_count": 25,
     "metadata": {},
     "output_type": "execute_result"
    }
   ],
   "source": [
    "# records with Invoice starting with 'C'\n",
    "df[df['Invoice'].str.contains('C', na = False)]"
   ]
  },
  {
   "cell_type": "markdown",
   "metadata": {},
   "source": [
    "Records whose Invoice starts with **C** but have a poisitive quantity value"
   ]
  },
  {
   "cell_type": "code",
   "execution_count": 26,
   "metadata": {},
   "outputs": [
    {
     "data": {
      "text/html": [
       "<div>\n",
       "<style scoped>\n",
       "    .dataframe tbody tr th:only-of-type {\n",
       "        vertical-align: middle;\n",
       "    }\n",
       "\n",
       "    .dataframe tbody tr th {\n",
       "        vertical-align: top;\n",
       "    }\n",
       "\n",
       "    .dataframe thead th {\n",
       "        text-align: right;\n",
       "    }\n",
       "</style>\n",
       "<table border=\"1\" class=\"dataframe\">\n",
       "  <thead>\n",
       "    <tr style=\"text-align: right;\">\n",
       "      <th></th>\n",
       "      <th>Invoice</th>\n",
       "      <th>StockCode</th>\n",
       "      <th>Description</th>\n",
       "      <th>Quantity</th>\n",
       "      <th>InvoiceDate</th>\n",
       "      <th>Price</th>\n",
       "      <th>Customer ID</th>\n",
       "      <th>Country</th>\n",
       "    </tr>\n",
       "  </thead>\n",
       "  <tbody>\n",
       "    <tr>\n",
       "      <th>76799</th>\n",
       "      <td>C496350</td>\n",
       "      <td>M</td>\n",
       "      <td>Manual</td>\n",
       "      <td>1</td>\n",
       "      <td>2010-02-01 08:24:00</td>\n",
       "      <td>373.57</td>\n",
       "      <td>NaN</td>\n",
       "      <td>United Kingdom</td>\n",
       "    </tr>\n",
       "  </tbody>\n",
       "</table>\n",
       "</div>"
      ],
      "text/plain": [
       "       Invoice StockCode Description  Quantity         InvoiceDate   Price  \\\n",
       "76799  C496350         M      Manual         1 2010-02-01 08:24:00  373.57   \n",
       "\n",
       "       Customer ID         Country  \n",
       "76799          NaN  United Kingdom  "
      ]
     },
     "execution_count": 26,
     "metadata": {},
     "output_type": "execute_result"
    }
   ],
   "source": [
    "df[(df['Quantity'] > 0) & (df['Invoice'].str.contains('C', na = False))]"
   ]
  },
  {
   "cell_type": "markdown",
   "metadata": {},
   "source": [
    "Additionally, we explore if there is any relationship between invoice for the purchases and cancellations. We use Customer ID 12346 below. Invoice `C541433` is most likely a cancellation of `541431` but don't share the same digits.   \n",
    "\n",
    "**Why is this good to know?**  \n",
    " - It would not be possible to associate returns to their original purchase invoices. For example to answer questions such as, how many days after purchase do returns typically occur?"
   ]
  },
  {
   "cell_type": "code",
   "execution_count": 27,
   "metadata": {},
   "outputs": [
    {
     "data": {
      "text/html": [
       "<div>\n",
       "<style scoped>\n",
       "    .dataframe tbody tr th:only-of-type {\n",
       "        vertical-align: middle;\n",
       "    }\n",
       "\n",
       "    .dataframe tbody tr th {\n",
       "        vertical-align: top;\n",
       "    }\n",
       "\n",
       "    .dataframe thead th {\n",
       "        text-align: right;\n",
       "    }\n",
       "</style>\n",
       "<table border=\"1\" class=\"dataframe\">\n",
       "  <thead>\n",
       "    <tr style=\"text-align: right;\">\n",
       "      <th></th>\n",
       "      <th>Invoice</th>\n",
       "      <th>StockCode</th>\n",
       "      <th>Description</th>\n",
       "      <th>Quantity</th>\n",
       "      <th>InvoiceDate</th>\n",
       "      <th>Price</th>\n",
       "      <th>Customer ID</th>\n",
       "      <th>Country</th>\n",
       "    </tr>\n",
       "  </thead>\n",
       "  <tbody>\n",
       "    <tr>\n",
       "      <th>255595</th>\n",
       "      <td>C514024</td>\n",
       "      <td>M</td>\n",
       "      <td>Manual</td>\n",
       "      <td>-1</td>\n",
       "      <td>2010-06-30 11:22:00</td>\n",
       "      <td>142.31</td>\n",
       "      <td>12346.0</td>\n",
       "      <td>United Kingdom</td>\n",
       "    </tr>\n",
       "    <tr>\n",
       "      <th>370048</th>\n",
       "      <td>C525099</td>\n",
       "      <td>D</td>\n",
       "      <td>Discount</td>\n",
       "      <td>-1</td>\n",
       "      <td>2010-10-04 09:54:00</td>\n",
       "      <td>1.00</td>\n",
       "      <td>12346.0</td>\n",
       "      <td>United Kingdom</td>\n",
       "    </tr>\n",
       "    <tr>\n",
       "      <th>371779</th>\n",
       "      <td>C525274</td>\n",
       "      <td>TEST001</td>\n",
       "      <td>This is a test product.</td>\n",
       "      <td>-1</td>\n",
       "      <td>2010-10-04 16:33:00</td>\n",
       "      <td>4.50</td>\n",
       "      <td>12346.0</td>\n",
       "      <td>United Kingdom</td>\n",
       "    </tr>\n",
       "    <tr>\n",
       "      <th>61619</th>\n",
       "      <td>541431</td>\n",
       "      <td>23166</td>\n",
       "      <td>MEDIUM CERAMIC TOP STORAGE JAR</td>\n",
       "      <td>74215</td>\n",
       "      <td>2011-01-18 10:01:00</td>\n",
       "      <td>1.04</td>\n",
       "      <td>12346.0</td>\n",
       "      <td>United Kingdom</td>\n",
       "    </tr>\n",
       "    <tr>\n",
       "      <th>61624</th>\n",
       "      <td>C541433</td>\n",
       "      <td>23166</td>\n",
       "      <td>MEDIUM CERAMIC TOP STORAGE JAR</td>\n",
       "      <td>-74215</td>\n",
       "      <td>2011-01-18 10:17:00</td>\n",
       "      <td>1.04</td>\n",
       "      <td>12346.0</td>\n",
       "      <td>United Kingdom</td>\n",
       "    </tr>\n",
       "  </tbody>\n",
       "</table>\n",
       "</div>"
      ],
      "text/plain": [
       "        Invoice StockCode                     Description  Quantity  \\\n",
       "255595  C514024         M                          Manual        -1   \n",
       "370048  C525099         D                        Discount        -1   \n",
       "371779  C525274   TEST001         This is a test product.        -1   \n",
       "61619    541431     23166  MEDIUM CERAMIC TOP STORAGE JAR     74215   \n",
       "61624   C541433     23166  MEDIUM CERAMIC TOP STORAGE JAR    -74215   \n",
       "\n",
       "               InvoiceDate   Price  Customer ID         Country  \n",
       "255595 2010-06-30 11:22:00  142.31      12346.0  United Kingdom  \n",
       "370048 2010-10-04 09:54:00    1.00      12346.0  United Kingdom  \n",
       "371779 2010-10-04 16:33:00    4.50      12346.0  United Kingdom  \n",
       "61619  2011-01-18 10:01:00    1.04      12346.0  United Kingdom  \n",
       "61624  2011-01-18 10:17:00    1.04      12346.0  United Kingdom  "
      ]
     },
     "execution_count": 27,
     "metadata": {},
     "output_type": "execute_result"
    }
   ],
   "source": [
    "df[df['Customer ID'] == 12346].tail()"
   ]
  },
  {
   "cell_type": "markdown",
   "metadata": {
    "pycharm": {
     "name": "#%% md\n"
    },
    "tags": []
   },
   "source": [
    "### 5.2 Quantity  <a class=\"anchor\" id=\"Quantity\"></a>\n",
    "Quantity column is not only used to show purchased quantity but also shows the amount of cancelled/returned items by encoding the cancelled transactions as negative. These transactions all have a customer ID attached to them.\n",
    "Negative Quantity is also used to encode other business outgoings and these transactions have no Customer ID attached to them. This can be seen by comparing the count of negative values of `Quantity` (22,557) which is more than the `Invoice` that start with **C** (19,165). Additionally, there is only 1 instance whose invoice starts with **C** but the `Quantity` is positive (1).  \n",
    "\n",
    "**What do we learn from this column?**\n",
    "- Negative values encode more than just returns but also other categories of cancelled sales, bad items, etc.\n",
    "- if we are interested in only purchases (e.g number of orders), filtering on negative values would not be sufficient. It would be necessary to combine such filters with Invoice column starting with **C**"
   ]
  },
  {
   "cell_type": "code",
   "execution_count": 28,
   "metadata": {},
   "outputs": [
    {
     "name": "stdout",
     "output_type": "stream",
     "text": [
      "The number of entries with negative quantinty 22557\n"
     ]
    }
   ],
   "source": [
    "print('The number of entries with negative quantinty', df[(df['Quantity'] < 0)].shape[0])"
   ]
  },
  {
   "cell_type": "code",
   "execution_count": 29,
   "metadata": {
    "pycharm": {
     "name": "#%%\n"
    }
   },
   "outputs": [
    {
     "name": "stdout",
     "output_type": "stream",
     "text": [
      "Number of invoices for returns that also have negative quantity 19164\n"
     ]
    }
   ],
   "source": [
    "print('Number of invoices for returns that also have negative quantity',\n",
    "      df.loc[(df['Invoice'].str.contains('C', na = False)) & (df['Quantity'] < 0)].shape[0])"
   ]
  },
  {
   "cell_type": "code",
   "execution_count": 30,
   "metadata": {
    "pycharm": {
     "name": "#%%\n"
    },
    "tags": []
   },
   "outputs": [
    {
     "data": {
      "text/html": [
       "<div>\n",
       "<style scoped>\n",
       "    .dataframe tbody tr th:only-of-type {\n",
       "        vertical-align: middle;\n",
       "    }\n",
       "\n",
       "    .dataframe tbody tr th {\n",
       "        vertical-align: top;\n",
       "    }\n",
       "\n",
       "    .dataframe thead th {\n",
       "        text-align: right;\n",
       "    }\n",
       "</style>\n",
       "<table border=\"1\" class=\"dataframe\">\n",
       "  <thead>\n",
       "    <tr style=\"text-align: right;\">\n",
       "      <th></th>\n",
       "      <th>Invoice</th>\n",
       "      <th>StockCode</th>\n",
       "      <th>Description</th>\n",
       "      <th>Quantity</th>\n",
       "      <th>InvoiceDate</th>\n",
       "      <th>Price</th>\n",
       "      <th>Customer ID</th>\n",
       "      <th>Country</th>\n",
       "    </tr>\n",
       "  </thead>\n",
       "  <tbody>\n",
       "    <tr>\n",
       "      <th>76799</th>\n",
       "      <td>C496350</td>\n",
       "      <td>M</td>\n",
       "      <td>Manual</td>\n",
       "      <td>1</td>\n",
       "      <td>2010-02-01 08:24:00</td>\n",
       "      <td>373.57</td>\n",
       "      <td>NaN</td>\n",
       "      <td>United Kingdom</td>\n",
       "    </tr>\n",
       "  </tbody>\n",
       "</table>\n",
       "</div>"
      ],
      "text/plain": [
       "       Invoice StockCode Description  Quantity         InvoiceDate   Price  \\\n",
       "76799  C496350         M      Manual         1 2010-02-01 08:24:00  373.57   \n",
       "\n",
       "       Customer ID         Country  \n",
       "76799          NaN  United Kingdom  "
      ]
     },
     "execution_count": 30,
     "metadata": {},
     "output_type": "execute_result"
    }
   ],
   "source": [
    "# Entry of the returns that has positive quantity\n",
    "df.loc[(df['Invoice'].str.contains('C', na = False)) & (df['Quantity'] >= 0)]"
   ]
  },
  {
   "cell_type": "markdown",
   "metadata": {},
   "source": [
    "---"
   ]
  },
  {
   "cell_type": "markdown",
   "metadata": {},
   "source": [
    "**What have we learnt about the data so far?**\n",
    "- Each invoice number can contain several items - all captured as separate instances(rows) in the data\n",
    "- Some invoices are simply accounting line items, those whose Invoice start with **A**. These typically have negative `Price`, but not always the case. It is necessary to use filtering on Invoice starting with **A** to isolate these records\n",
    "- Cancellations are mostly associated with negative `Quantity`. However, this is not always the case.\n",
    "- There is no relationship between the invoice numbers assigned to cancellations and their original purchase invoices\n",
    "- Negative values of `Quantity` represent more than just returns but other cancelled sales relating to bad items for example.\n",
    "- If we are interested in customer related transactions, then it is necessary to first drop all the null values out of the Customer ID column followed by relevant filtering on Invoice starting with C depending on the analysis.\n",
    "\n",
    "**Why is this important**   \n",
    "\n",
    "It is useful in forming strategies to clean up the data for a particular analysis. \n",
    "For example, in customer segmentation based on Recency, Frequency, Monetary (RFM) we need to determine:   \n",
    "- How many orders from customer (Frequency)?\n",
    "- When did the customer last make an order (Recency)?\n",
    "- How much money have we made from the customer (Monetary)?\n",
    "\n",
    "We follow the steps below to arrive at the three variables\n",
    "\n",
    "1. filter data to only customer transactions - drop null values in Customer ID column\n",
    "2. To determine the total monetary value, multiply quanties (both positive and negative (cancellations)) with price and sum the result\n",
    "3. To determine number of orders and last order date, an extra filter to remove orders starts with **C** and **D** would be carried out to keep only the placed orders. Remember we can not associate cancellation line items with related order line items as there is no relationship between invoices. As such included orders in total number of orders may have been subsequently cancelled, but there is no way to know and hence have them removed. "
   ]
  },
  {
   "cell_type": "code",
   "execution_count": 94,
   "metadata": {},
   "outputs": [
    {
     "name": "stdout",
     "output_type": "stream",
     "text": [
      "There is 61 customers with only negative value orders and not a single postive value order\n"
     ]
    }
   ],
   "source": [
    "# prepare the customer dataset\n",
    "customer_data = df.copy()\n",
    "customer_data.dropna(subset = ['Customer ID'], inplace=True) # drop all rows with null customer ID\n",
    "customer_data['Invoice'] = customer_data['Invoice'].astype(str) # set Invoice dtype to string\n",
    "customer_data['Customer ID'] = customer_data['Customer ID'].astype(int) # set customer ID column to int\n",
    "# create TotalValue column = Price * Quantity\n",
    "customer_data['TotalValue'] = customer_data['Quantity'] * customer_data['Price']\n",
    "\n",
    "# monetary value\n",
    "monetary = customer_data[['Customer ID','TotalValue']].groupby('Customer ID').agg(Monetary = ('TotalValue', 'sum'))\n",
    "\n",
    "# to compute number of orders and last order date --> extra filters to keep only positive orders\n",
    "positive_orders = customer_data.copy()\n",
    "positive_orders = positive_orders[(~positive_orders['Invoice'].str.contains('C', na = False))] # remove cancellations\n",
    "positive_orders = positive_orders[(~positive_orders['Invoice'].str.contains('A', na = False))] # remove accounting invoices\n",
    "# remove any other cancelled orders such as crushed items - represented negative quantity\n",
    "positive_orders = positive_orders[(positive_orders['Quantity'] >= 0)]\n",
    "\n",
    "# number of positive orders\n",
    "frequency = positive_orders[['Customer ID','InvoiceDate']].groupby('Customer ID').agg(Frequency = ('InvoiceDate', 'count'))\n",
    "# last positive order date\n",
    "recency = positive_orders[['Customer ID','InvoiceDate']].groupby('Customer ID').agg(Recency = ('InvoiceDate', 'max'))\n",
    "\n",
    "# number of customers without a positive order but with negative orders\n",
    "customers_negative_orders = monetary[~monetary.index.isin(recency.index)].index\n",
    "print('There is {} customers with only negative value orders and not a single postive value order'.format(len(customers_negative_orders)))"
   ]
  },
  {
   "cell_type": "markdown",
   "metadata": {},
   "source": [
    "It is interesting to note that there is customers with only negative value orders and not a single postive value order. I am not sure what these customers mean and I will filter them out of analysis. An example user data is shown below"
   ]
  },
  {
   "cell_type": "code",
   "execution_count": 95,
   "metadata": {},
   "outputs": [
    {
     "data": {
      "text/html": [
       "<div>\n",
       "<style scoped>\n",
       "    .dataframe tbody tr th:only-of-type {\n",
       "        vertical-align: middle;\n",
       "    }\n",
       "\n",
       "    .dataframe tbody tr th {\n",
       "        vertical-align: top;\n",
       "    }\n",
       "\n",
       "    .dataframe thead th {\n",
       "        text-align: right;\n",
       "    }\n",
       "</style>\n",
       "<table border=\"1\" class=\"dataframe\">\n",
       "  <thead>\n",
       "    <tr style=\"text-align: right;\">\n",
       "      <th></th>\n",
       "      <th>Invoice</th>\n",
       "      <th>StockCode</th>\n",
       "      <th>Description</th>\n",
       "      <th>Quantity</th>\n",
       "      <th>InvoiceDate</th>\n",
       "      <th>Price</th>\n",
       "      <th>Customer ID</th>\n",
       "      <th>Country</th>\n",
       "      <th>TotalValue</th>\n",
       "    </tr>\n",
       "  </thead>\n",
       "  <tbody>\n",
       "    <tr>\n",
       "      <th>70987</th>\n",
       "      <td>C495743</td>\n",
       "      <td>ADJUST</td>\n",
       "      <td>Adjustment by john on 26/01/2010 16</td>\n",
       "      <td>-1</td>\n",
       "      <td>2010-01-26 16:25:00</td>\n",
       "      <td>18.38</td>\n",
       "      <td>12382</td>\n",
       "      <td>Netherlands</td>\n",
       "      <td>-18.38</td>\n",
       "    </tr>\n",
       "  </tbody>\n",
       "</table>\n",
       "</div>"
      ],
      "text/plain": [
       "       Invoice StockCode                          Description  Quantity  \\\n",
       "70987  C495743    ADJUST  Adjustment by john on 26/01/2010 16        -1   \n",
       "\n",
       "              InvoiceDate  Price  Customer ID      Country  TotalValue  \n",
       "70987 2010-01-26 16:25:00  18.38        12382  Netherlands      -18.38  "
      ]
     },
     "execution_count": 95,
     "metadata": {},
     "output_type": "execute_result"
    }
   ],
   "source": [
    "# example data for a customer with only negative value orders\n",
    "customer_data[customer_data['Customer ID'] == 12382]"
   ]
  },
  {
   "cell_type": "code",
   "execution_count": 99,
   "metadata": {},
   "outputs": [
    {
     "data": {
      "text/html": [
       "<div>\n",
       "<style scoped>\n",
       "    .dataframe tbody tr th:only-of-type {\n",
       "        vertical-align: middle;\n",
       "    }\n",
       "\n",
       "    .dataframe tbody tr th {\n",
       "        vertical-align: top;\n",
       "    }\n",
       "\n",
       "    .dataframe thead th {\n",
       "        text-align: right;\n",
       "    }\n",
       "</style>\n",
       "<table border=\"1\" class=\"dataframe\">\n",
       "  <thead>\n",
       "    <tr style=\"text-align: right;\">\n",
       "      <th></th>\n",
       "      <th>Recency</th>\n",
       "      <th>Frequency</th>\n",
       "      <th>Monetary</th>\n",
       "    </tr>\n",
       "    <tr>\n",
       "      <th>Customer ID</th>\n",
       "      <th></th>\n",
       "      <th></th>\n",
       "      <th></th>\n",
       "    </tr>\n",
       "  </thead>\n",
       "  <tbody>\n",
       "    <tr>\n",
       "      <th>12346</th>\n",
       "      <td>2011-01-18 10:01:00</td>\n",
       "      <td>34</td>\n",
       "      <td>-64.68</td>\n",
       "    </tr>\n",
       "    <tr>\n",
       "      <th>12347</th>\n",
       "      <td>2011-12-07 15:52:00</td>\n",
       "      <td>222</td>\n",
       "      <td>4921.53</td>\n",
       "    </tr>\n",
       "    <tr>\n",
       "      <th>12348</th>\n",
       "      <td>2011-09-25 13:13:00</td>\n",
       "      <td>51</td>\n",
       "      <td>2019.40</td>\n",
       "    </tr>\n",
       "    <tr>\n",
       "      <th>12349</th>\n",
       "      <td>2011-11-21 09:51:00</td>\n",
       "      <td>175</td>\n",
       "      <td>4404.54</td>\n",
       "    </tr>\n",
       "    <tr>\n",
       "      <th>12350</th>\n",
       "      <td>2011-02-02 16:01:00</td>\n",
       "      <td>17</td>\n",
       "      <td>334.40</td>\n",
       "    </tr>\n",
       "    <tr>\n",
       "      <th>...</th>\n",
       "      <td>...</td>\n",
       "      <td>...</td>\n",
       "      <td>...</td>\n",
       "    </tr>\n",
       "    <tr>\n",
       "      <th>18283</th>\n",
       "      <td>2011-12-06 12:02:00</td>\n",
       "      <td>986</td>\n",
       "      <td>2736.65</td>\n",
       "    </tr>\n",
       "    <tr>\n",
       "      <th>18284</th>\n",
       "      <td>2010-10-04 11:33:00</td>\n",
       "      <td>28</td>\n",
       "      <td>436.68</td>\n",
       "    </tr>\n",
       "    <tr>\n",
       "      <th>18285</th>\n",
       "      <td>2010-02-17 10:24:00</td>\n",
       "      <td>12</td>\n",
       "      <td>427.00</td>\n",
       "    </tr>\n",
       "    <tr>\n",
       "      <th>18286</th>\n",
       "      <td>2010-08-20 11:57:00</td>\n",
       "      <td>67</td>\n",
       "      <td>1188.43</td>\n",
       "    </tr>\n",
       "    <tr>\n",
       "      <th>18287</th>\n",
       "      <td>2011-10-28 09:29:00</td>\n",
       "      <td>155</td>\n",
       "      <td>4177.89</td>\n",
       "    </tr>\n",
       "  </tbody>\n",
       "</table>\n",
       "<p>5881 rows × 3 columns</p>\n",
       "</div>"
      ],
      "text/plain": [
       "                        Recency  Frequency  Monetary\n",
       "Customer ID                                         \n",
       "12346       2011-01-18 10:01:00         34    -64.68\n",
       "12347       2011-12-07 15:52:00        222   4921.53\n",
       "12348       2011-09-25 13:13:00         51   2019.40\n",
       "12349       2011-11-21 09:51:00        175   4404.54\n",
       "12350       2011-02-02 16:01:00         17    334.40\n",
       "...                         ...        ...       ...\n",
       "18283       2011-12-06 12:02:00        986   2736.65\n",
       "18284       2010-10-04 11:33:00         28    436.68\n",
       "18285       2010-02-17 10:24:00         12    427.00\n",
       "18286       2010-08-20 11:57:00         67   1188.43\n",
       "18287       2011-10-28 09:29:00        155   4177.89\n",
       "\n",
       "[5881 rows x 3 columns]"
      ]
     },
     "execution_count": 99,
     "metadata": {},
     "output_type": "execute_result"
    }
   ],
   "source": [
    "# create a clean user RFM dataset with only users with at least one positive order\n",
    "customer_RFM_data = pd.merge(recency, frequency,left_index=True,right_index=True, how = 'inner')\n",
    "customer_RFM_data = pd.merge(customer_RFM_data, monetary, left_index=True,right_index=True, how = 'inner')\n",
    "# round the Monetary value to 2 decimal places\n",
    "customer_RFM_data['Monetary'] = customer_RFM_data['Monetary'].apply(lambda x: round(x, 2))\n",
    "customer_RFM_data"
   ]
  },
  {
   "cell_type": "markdown",
   "metadata": {},
   "source": [
    "We observe that there is customers whose net value into business is negative."
   ]
  },
  {
   "cell_type": "code",
   "execution_count": 100,
   "metadata": {},
   "outputs": [
    {
     "data": {
      "text/html": [
       "<div>\n",
       "<style scoped>\n",
       "    .dataframe tbody tr th:only-of-type {\n",
       "        vertical-align: middle;\n",
       "    }\n",
       "\n",
       "    .dataframe tbody tr th {\n",
       "        vertical-align: top;\n",
       "    }\n",
       "\n",
       "    .dataframe thead th {\n",
       "        text-align: right;\n",
       "    }\n",
       "</style>\n",
       "<table border=\"1\" class=\"dataframe\">\n",
       "  <thead>\n",
       "    <tr style=\"text-align: right;\">\n",
       "      <th></th>\n",
       "      <th>Recency</th>\n",
       "      <th>Frequency</th>\n",
       "      <th>Monetary</th>\n",
       "    </tr>\n",
       "    <tr>\n",
       "      <th>Customer ID</th>\n",
       "      <th></th>\n",
       "      <th></th>\n",
       "      <th></th>\n",
       "    </tr>\n",
       "  </thead>\n",
       "  <tbody>\n",
       "    <tr>\n",
       "      <th>12346</th>\n",
       "      <td>2011-01-18 10:01:00</td>\n",
       "      <td>34</td>\n",
       "      <td>-64.68</td>\n",
       "    </tr>\n",
       "    <tr>\n",
       "      <th>12918</th>\n",
       "      <td>2010-03-23 15:22:00</td>\n",
       "      <td>1</td>\n",
       "      <td>-10953.50</td>\n",
       "    </tr>\n",
       "    <tr>\n",
       "      <th>13091</th>\n",
       "      <td>2011-11-11 15:54:00</td>\n",
       "      <td>45</td>\n",
       "      <td>-130.22</td>\n",
       "    </tr>\n",
       "    <tr>\n",
       "      <th>13112</th>\n",
       "      <td>2010-06-16 17:03:00</td>\n",
       "      <td>2</td>\n",
       "      <td>-5.44</td>\n",
       "    </tr>\n",
       "    <tr>\n",
       "      <th>13290</th>\n",
       "      <td>2010-09-27 16:29:00</td>\n",
       "      <td>1</td>\n",
       "      <td>-208.63</td>\n",
       "    </tr>\n",
       "    <tr>\n",
       "      <th>13776</th>\n",
       "      <td>2010-10-07 16:11:00</td>\n",
       "      <td>2</td>\n",
       "      <td>-340.17</td>\n",
       "    </tr>\n",
       "    <tr>\n",
       "      <th>14063</th>\n",
       "      <td>2010-09-27 16:18:00</td>\n",
       "      <td>40</td>\n",
       "      <td>-3767.20</td>\n",
       "    </tr>\n",
       "    <tr>\n",
       "      <th>14255</th>\n",
       "      <td>2010-06-11 15:54:00</td>\n",
       "      <td>1</td>\n",
       "      <td>-1441.60</td>\n",
       "    </tr>\n",
       "    <tr>\n",
       "      <th>14308</th>\n",
       "      <td>2010-06-08 16:48:00</td>\n",
       "      <td>2</td>\n",
       "      <td>-849.45</td>\n",
       "    </tr>\n",
       "    <tr>\n",
       "      <th>14328</th>\n",
       "      <td>2010-09-27 16:01:00</td>\n",
       "      <td>1</td>\n",
       "      <td>-445.06</td>\n",
       "    </tr>\n",
       "    <tr>\n",
       "      <th>14380</th>\n",
       "      <td>2010-01-26 17:11:00</td>\n",
       "      <td>1</td>\n",
       "      <td>-99.73</td>\n",
       "    </tr>\n",
       "    <tr>\n",
       "      <th>14802</th>\n",
       "      <td>2010-09-27 16:34:00</td>\n",
       "      <td>2</td>\n",
       "      <td>-1502.98</td>\n",
       "    </tr>\n",
       "    <tr>\n",
       "      <th>14832</th>\n",
       "      <td>2010-03-19 15:14:00</td>\n",
       "      <td>1</td>\n",
       "      <td>-274.63</td>\n",
       "    </tr>\n",
       "    <tr>\n",
       "      <th>14906</th>\n",
       "      <td>2010-09-20 16:30:00</td>\n",
       "      <td>1</td>\n",
       "      <td>-66.98</td>\n",
       "    </tr>\n",
       "    <tr>\n",
       "      <th>15202</th>\n",
       "      <td>2010-10-15 13:05:00</td>\n",
       "      <td>3</td>\n",
       "      <td>-2570.18</td>\n",
       "    </tr>\n",
       "    <tr>\n",
       "      <th>15354</th>\n",
       "      <td>2010-04-15 16:24:00</td>\n",
       "      <td>3</td>\n",
       "      <td>-94.80</td>\n",
       "    </tr>\n",
       "    <tr>\n",
       "      <th>15413</th>\n",
       "      <td>2010-01-17 11:33:00</td>\n",
       "      <td>25</td>\n",
       "      <td>-2531.38</td>\n",
       "    </tr>\n",
       "    <tr>\n",
       "      <th>15760</th>\n",
       "      <td>2010-03-19 11:45:00</td>\n",
       "      <td>2</td>\n",
       "      <td>-5795.87</td>\n",
       "    </tr>\n",
       "    <tr>\n",
       "      <th>15802</th>\n",
       "      <td>2011-07-20 11:38:00</td>\n",
       "      <td>1</td>\n",
       "      <td>-451.42</td>\n",
       "    </tr>\n",
       "    <tr>\n",
       "      <th>16446</th>\n",
       "      <td>2011-12-09 09:15:00</td>\n",
       "      <td>3</td>\n",
       "      <td>-6.10</td>\n",
       "    </tr>\n",
       "  </tbody>\n",
       "</table>\n",
       "</div>"
      ],
      "text/plain": [
       "                        Recency  Frequency  Monetary\n",
       "Customer ID                                         \n",
       "12346       2011-01-18 10:01:00         34    -64.68\n",
       "12918       2010-03-23 15:22:00          1 -10953.50\n",
       "13091       2011-11-11 15:54:00         45   -130.22\n",
       "13112       2010-06-16 17:03:00          2     -5.44\n",
       "13290       2010-09-27 16:29:00          1   -208.63\n",
       "13776       2010-10-07 16:11:00          2   -340.17\n",
       "14063       2010-09-27 16:18:00         40  -3767.20\n",
       "14255       2010-06-11 15:54:00          1  -1441.60\n",
       "14308       2010-06-08 16:48:00          2   -849.45\n",
       "14328       2010-09-27 16:01:00          1   -445.06\n",
       "14380       2010-01-26 17:11:00          1    -99.73\n",
       "14802       2010-09-27 16:34:00          2  -1502.98\n",
       "14832       2010-03-19 15:14:00          1   -274.63\n",
       "14906       2010-09-20 16:30:00          1    -66.98\n",
       "15202       2010-10-15 13:05:00          3  -2570.18\n",
       "15354       2010-04-15 16:24:00          3    -94.80\n",
       "15413       2010-01-17 11:33:00         25  -2531.38\n",
       "15760       2010-03-19 11:45:00          2  -5795.87\n",
       "15802       2011-07-20 11:38:00          1   -451.42\n",
       "16446       2011-12-09 09:15:00          3     -6.10"
      ]
     },
     "execution_count": 100,
     "metadata": {},
     "output_type": "execute_result"
    }
   ],
   "source": [
    "# number of customers whose net value into the business is negative\n",
    "customer_RFM_data[customer_RFM_data['Monetary'] < 0]"
   ]
  },
  {
   "cell_type": "markdown",
   "metadata": {},
   "source": [
    "Below we print all the transaction records by customer 16446 to understand the records further"
   ]
  },
  {
   "cell_type": "code",
   "execution_count": 101,
   "metadata": {},
   "outputs": [
    {
     "data": {
      "text/html": [
       "<div>\n",
       "<style scoped>\n",
       "    .dataframe tbody tr th:only-of-type {\n",
       "        vertical-align: middle;\n",
       "    }\n",
       "\n",
       "    .dataframe tbody tr th {\n",
       "        vertical-align: top;\n",
       "    }\n",
       "\n",
       "    .dataframe thead th {\n",
       "        text-align: right;\n",
       "    }\n",
       "</style>\n",
       "<table border=\"1\" class=\"dataframe\">\n",
       "  <thead>\n",
       "    <tr style=\"text-align: right;\">\n",
       "      <th></th>\n",
       "      <th>Invoice</th>\n",
       "      <th>StockCode</th>\n",
       "      <th>Description</th>\n",
       "      <th>Quantity</th>\n",
       "      <th>InvoiceDate</th>\n",
       "      <th>Price</th>\n",
       "      <th>Customer ID</th>\n",
       "      <th>Country</th>\n",
       "    </tr>\n",
       "  </thead>\n",
       "  <tbody>\n",
       "    <tr>\n",
       "      <th>371780</th>\n",
       "      <td>C525275</td>\n",
       "      <td>TEST001</td>\n",
       "      <td>This is a test product.</td>\n",
       "      <td>-2</td>\n",
       "      <td>2010-10-04 16:38:00</td>\n",
       "      <td>4.50</td>\n",
       "      <td>16446.0</td>\n",
       "      <td>United Kingdom</td>\n",
       "    </tr>\n",
       "    <tr>\n",
       "      <th>194354</th>\n",
       "      <td>553573</td>\n",
       "      <td>22980</td>\n",
       "      <td>PANTRY SCRUBBING BRUSH</td>\n",
       "      <td>1</td>\n",
       "      <td>2011-05-18 09:52:00</td>\n",
       "      <td>1.65</td>\n",
       "      <td>16446.0</td>\n",
       "      <td>United Kingdom</td>\n",
       "    </tr>\n",
       "    <tr>\n",
       "      <th>194355</th>\n",
       "      <td>553573</td>\n",
       "      <td>22982</td>\n",
       "      <td>PANTRY PASTRY BRUSH</td>\n",
       "      <td>1</td>\n",
       "      <td>2011-05-18 09:52:00</td>\n",
       "      <td>1.25</td>\n",
       "      <td>16446.0</td>\n",
       "      <td>United Kingdom</td>\n",
       "    </tr>\n",
       "    <tr>\n",
       "      <th>540421</th>\n",
       "      <td>581483</td>\n",
       "      <td>23843</td>\n",
       "      <td>PAPER CRAFT , LITTLE BIRDIE</td>\n",
       "      <td>80995</td>\n",
       "      <td>2011-12-09 09:15:00</td>\n",
       "      <td>2.08</td>\n",
       "      <td>16446.0</td>\n",
       "      <td>United Kingdom</td>\n",
       "    </tr>\n",
       "    <tr>\n",
       "      <th>540422</th>\n",
       "      <td>C581484</td>\n",
       "      <td>23843</td>\n",
       "      <td>PAPER CRAFT , LITTLE BIRDIE</td>\n",
       "      <td>-80995</td>\n",
       "      <td>2011-12-09 09:27:00</td>\n",
       "      <td>2.08</td>\n",
       "      <td>16446.0</td>\n",
       "      <td>United Kingdom</td>\n",
       "    </tr>\n",
       "  </tbody>\n",
       "</table>\n",
       "</div>"
      ],
      "text/plain": [
       "        Invoice StockCode                  Description  Quantity  \\\n",
       "371780  C525275   TEST001      This is a test product.        -2   \n",
       "194354   553573     22980       PANTRY SCRUBBING BRUSH         1   \n",
       "194355   553573     22982          PANTRY PASTRY BRUSH         1   \n",
       "540421   581483     23843  PAPER CRAFT , LITTLE BIRDIE     80995   \n",
       "540422  C581484     23843  PAPER CRAFT , LITTLE BIRDIE    -80995   \n",
       "\n",
       "               InvoiceDate  Price  Customer ID         Country  \n",
       "371780 2010-10-04 16:38:00   4.50      16446.0  United Kingdom  \n",
       "194354 2011-05-18 09:52:00   1.65      16446.0  United Kingdom  \n",
       "194355 2011-05-18 09:52:00   1.25      16446.0  United Kingdom  \n",
       "540421 2011-12-09 09:15:00   2.08      16446.0  United Kingdom  \n",
       "540422 2011-12-09 09:27:00   2.08      16446.0  United Kingdom  "
      ]
     },
     "execution_count": 101,
     "metadata": {},
     "output_type": "execute_result"
    }
   ],
   "source": [
    "df[df['Customer ID'] == 16446]"
   ]
  },
  {
   "cell_type": "markdown",
   "metadata": {},
   "source": [
    "We can see how this particular user (16446) has 3 positive quantity transactions of which one appears to have been cancelled (Invoice 581483). However, Invoice C525275 that is described as test product has turned total value for this customer to be negative.  \n",
    "\n",
    "I think this is useful data about Customers and I will keep it in the dataset.  "
   ]
  },
  {
   "cell_type": "code",
   "execution_count": 104,
   "metadata": {},
   "outputs": [
    {
     "name": "stdout",
     "output_type": "stream",
     "text": [
      "Number of customers in original dataset 5942, Number of customers in final dataset 5881\n"
     ]
    }
   ],
   "source": [
    "print('Number of customers in original dataset {}, Number of customers in final dataset {}'.format(\n",
    "                                        df['Customer ID'].nunique(), customer_RFM_data.shape[0]))"
   ]
  },
  {
   "cell_type": "markdown",
   "metadata": {},
   "source": [
    "From original dataset with 5,942 users, we keep 5881 customers (-61). We can print out the statistics of number of positive orders and total value per customer. We shall do more statistical analysis of these customers in another notebook"
   ]
  },
  {
   "cell_type": "code",
   "execution_count": 111,
   "metadata": {},
   "outputs": [
    {
     "data": {
      "text/html": [
       "<div>\n",
       "<style scoped>\n",
       "    .dataframe tbody tr th:only-of-type {\n",
       "        vertical-align: middle;\n",
       "    }\n",
       "\n",
       "    .dataframe tbody tr th {\n",
       "        vertical-align: top;\n",
       "    }\n",
       "\n",
       "    .dataframe thead th {\n",
       "        text-align: right;\n",
       "    }\n",
       "</style>\n",
       "<table border=\"1\" class=\"dataframe\">\n",
       "  <thead>\n",
       "    <tr style=\"text-align: right;\">\n",
       "      <th></th>\n",
       "      <th>count</th>\n",
       "      <th>mean</th>\n",
       "      <th>std</th>\n",
       "      <th>min</th>\n",
       "      <th>25%</th>\n",
       "      <th>50%</th>\n",
       "      <th>75%</th>\n",
       "      <th>max</th>\n",
       "    </tr>\n",
       "  </thead>\n",
       "  <tbody>\n",
       "    <tr>\n",
       "      <th>Frequency</th>\n",
       "      <td>5881.0</td>\n",
       "      <td>134.520490</td>\n",
       "      <td>347.166653</td>\n",
       "      <td>1.0</td>\n",
       "      <td>20.00</td>\n",
       "      <td>53.0</td>\n",
       "      <td>140.00</td>\n",
       "      <td>12704.00</td>\n",
       "    </tr>\n",
       "    <tr>\n",
       "      <th>Monetary</th>\n",
       "      <td>5881.0</td>\n",
       "      <td>2789.443749</td>\n",
       "      <td>13740.686464</td>\n",
       "      <td>-10953.5</td>\n",
       "      <td>331.35</td>\n",
       "      <td>841.7</td>\n",
       "      <td>2172.51</td>\n",
       "      <td>570380.61</td>\n",
       "    </tr>\n",
       "  </tbody>\n",
       "</table>\n",
       "</div>"
      ],
      "text/plain": [
       "            count         mean           std      min     25%    50%      75%  \\\n",
       "Frequency  5881.0   134.520490    347.166653      1.0   20.00   53.0   140.00   \n",
       "Monetary   5881.0  2789.443749  13740.686464 -10953.5  331.35  841.7  2172.51   \n",
       "\n",
       "                 max  \n",
       "Frequency   12704.00  \n",
       "Monetary   570380.61  "
      ]
     },
     "execution_count": 111,
     "metadata": {},
     "output_type": "execute_result"
    }
   ],
   "source": [
    "customer_RFM_data[['Frequency','Monetary']].describe().T"
   ]
  },
  {
   "cell_type": "markdown",
   "metadata": {
    "pycharm": {
     "name": "#%% md\n"
    },
    "tags": []
   },
   "source": [
    "### 5.3 InvoiceDate <a class=\"anchor\" id=\"invoiceDate\"></a>\n",
    "This contains the date of each invoice in the format `'%Y-%m-%d %H:%M:%S'`. This column does not contain null values. It is useful to identify the maximum and minimum dates. It can be seen in the code below, that this data contains invoices generated between 2009-12-01 and 2011-12-09. We have to be careful in presenting data as monthly timeseries containing the last month (December 2011) as it only contains data on 9 days out of 31 days in the month."
   ]
  },
  {
   "cell_type": "code",
   "execution_count": 34,
   "metadata": {
    "pycharm": {
     "name": "#%%\n"
    }
   },
   "outputs": [
    {
     "name": "stdout",
     "output_type": "stream",
     "text": [
      "The data ranges from 2009-12-01 to 2011-12-09\n"
     ]
    }
   ],
   "source": [
    "max_invoice_date = df['InvoiceDate'].max()\n",
    "min_invoice_date = df['InvoiceDate'].min()\n",
    "date_fmt = '%Y-%m-%d'\n",
    "print('The data ranges from {} to {}'.format(min_invoice_date.strftime(date_fmt), \n",
    "                                             max_invoice_date.strftime(date_fmt) \n",
    "                                            )\n",
    "     )"
   ]
  },
  {
   "cell_type": "markdown",
   "metadata": {
    "pycharm": {
     "name": "#%% md\n"
    }
   },
   "source": [
    "### 5.4 Customer ID <a class=\"anchor\" id=\"customerID\"></a>\n",
    "This column consists of unique customer ID. However, there is 22.8% missing entries in this column. This is a relatively large proportion of misssing data. we might hypothesize that most of this might represent unregistered customers who could potentially not be assigned an ID. This something that we would have to check with the team in charge of this data collection. Unfortunately, this is not possible at the moment. We shall devise ways of dealing with these null values of Customer ID depending on the analysis we are doing."
   ]
  },
  {
   "cell_type": "code",
   "execution_count": 35,
   "metadata": {
    "pycharm": {
     "name": "#%%\n"
    }
   },
   "outputs": [
    {
     "name": "stdout",
     "output_type": "stream",
     "text": [
      "The number of missing values in Customer ID: 235287 of 1044848, 22.5%\n"
     ]
    }
   ],
   "source": [
    "print('The number of missing values in Customer ID: {} of {}, {:.1f}%'.format(\n",
    "    df['Customer ID'].isna().sum(), df.shape[0], df['Customer ID'].isna().sum() * 100 / df.shape[0]))"
   ]
  },
  {
   "cell_type": "markdown",
   "metadata": {
    "pycharm": {
     "name": "#%% md\n"
    }
   },
   "source": [
    "### 5.5 Country <a class=\"anchor\" id=\"country\"></a>\n",
    "This column represents the country in which the invoice was raised. The column doesn't contain any null values.  Below, we shall see how many distinct countries are represented in the data"
   ]
  },
  {
   "cell_type": "code",
   "execution_count": 36,
   "metadata": {
    "pycharm": {
     "name": "#%%\n"
    }
   },
   "outputs": [
    {
     "name": "stdout",
     "output_type": "stream",
     "text": [
      "There are 43 unique countries in this dataset\n"
     ]
    },
    {
     "data": {
      "text/plain": [
       "array(['United Kingdom', 'France', 'USA', 'Belgium', 'Australia', 'EIRE',\n",
       "       'Germany', 'Portugal', 'Japan', 'Denmark', 'Nigeria',\n",
       "       'Netherlands', 'Poland', 'Spain', 'Channel Islands', 'Italy',\n",
       "       'Cyprus', 'Greece', 'Norway', 'Austria', 'Sweden',\n",
       "       'United Arab Emirates', 'Finland', 'Switzerland', 'Unspecified',\n",
       "       'Malta', 'Bahrain', 'RSA', 'Bermuda', 'Hong Kong', 'Singapore',\n",
       "       'Thailand', 'Israel', 'Lithuania', 'West Indies', 'Lebanon',\n",
       "       'Korea', 'Brazil', 'Canada', 'Iceland', 'Saudi Arabia',\n",
       "       'Czech Republic', 'European Community'], dtype=object)"
      ]
     },
     "execution_count": 36,
     "metadata": {},
     "output_type": "execute_result"
    }
   ],
   "source": [
    "# The Countries in the dataset\n",
    "unique_countries = df['Country'].unique()\n",
    "print(f'There are {len(unique_countries)} unique countries in this dataset')\n",
    "unique_countries"
   ]
  },
  {
   "cell_type": "markdown",
   "metadata": {
    "pycharm": {
     "name": "#%% md\n"
    }
   },
   "source": [
    "## 6.0 Missing Values <a class=\"anchor\" id=\"na_vals\"></a>\n",
    "\n",
    "As noted before, this transaction data contains more than just customer related transactions. It also contains business related transactions such as business subscriptions, bad debt, etc. that are not attached to specific customers.\n",
    "\n",
    "As such, the number of missing values in the Customer ID column is quite significant as shown below. However, this does not affect any analysis as what null values represents is clearly understood and decisions of when to be included in the analysis or not is fairly straightfoward. e.g.\n",
    "- balance sheet type of company aggregations - include all transactions\n",
    "- customer related transactions - drop null values out of the Customer ID column."
   ]
  },
  {
   "cell_type": "code",
   "execution_count": 77,
   "metadata": {
    "pycharm": {
     "name": "#%%\n"
    }
   },
   "outputs": [
    {
     "data": {
      "text/html": [
       "<div>\n",
       "<style scoped>\n",
       "    .dataframe tbody tr th:only-of-type {\n",
       "        vertical-align: middle;\n",
       "    }\n",
       "\n",
       "    .dataframe tbody tr th {\n",
       "        vertical-align: top;\n",
       "    }\n",
       "\n",
       "    .dataframe thead th {\n",
       "        text-align: right;\n",
       "    }\n",
       "</style>\n",
       "<table border=\"1\" class=\"dataframe\">\n",
       "  <thead>\n",
       "    <tr style=\"text-align: right;\">\n",
       "      <th></th>\n",
       "      <th>na_count</th>\n",
       "      <th>na_proportion</th>\n",
       "    </tr>\n",
       "  </thead>\n",
       "  <tbody>\n",
       "    <tr>\n",
       "      <th>Customer ID</th>\n",
       "      <td>235287</td>\n",
       "      <td>22.52</td>\n",
       "    </tr>\n",
       "    <tr>\n",
       "      <th>Description</th>\n",
       "      <td>4275</td>\n",
       "      <td>0.41</td>\n",
       "    </tr>\n",
       "    <tr>\n",
       "      <th>Invoice</th>\n",
       "      <td>0</td>\n",
       "      <td>0.00</td>\n",
       "    </tr>\n",
       "    <tr>\n",
       "      <th>StockCode</th>\n",
       "      <td>0</td>\n",
       "      <td>0.00</td>\n",
       "    </tr>\n",
       "    <tr>\n",
       "      <th>Quantity</th>\n",
       "      <td>0</td>\n",
       "      <td>0.00</td>\n",
       "    </tr>\n",
       "    <tr>\n",
       "      <th>InvoiceDate</th>\n",
       "      <td>0</td>\n",
       "      <td>0.00</td>\n",
       "    </tr>\n",
       "    <tr>\n",
       "      <th>Price</th>\n",
       "      <td>0</td>\n",
       "      <td>0.00</td>\n",
       "    </tr>\n",
       "    <tr>\n",
       "      <th>Country</th>\n",
       "      <td>0</td>\n",
       "      <td>0.00</td>\n",
       "    </tr>\n",
       "  </tbody>\n",
       "</table>\n",
       "</div>"
      ],
      "text/plain": [
       "             na_count  na_proportion\n",
       "Customer ID    235287          22.52\n",
       "Description      4275           0.41\n",
       "Invoice             0           0.00\n",
       "StockCode           0           0.00\n",
       "Quantity            0           0.00\n",
       "InvoiceDate         0           0.00\n",
       "Price               0           0.00\n",
       "Country             0           0.00"
      ]
     },
     "execution_count": 77,
     "metadata": {},
     "output_type": "execute_result"
    }
   ],
   "source": [
    "# count of missing values per column\n",
    "na_summary = df.isna().sum().to_frame().sort_values(by = 0, ascending=False)\n",
    "na_summary.columns = ['na_count']\n",
    "# proportion of null values per column\n",
    "na_summary['na_proportion'] = round(na_summary['na_count'] * 100 / df.shape[0],2)\n",
    "na_summary"
   ]
  },
  {
   "cell_type": "markdown",
   "metadata": {
    "pycharm": {
     "name": "#%% md\n"
    }
   },
   "source": [
    "## 7.0 Conclusion <a class=\"anchor\" id=\"conclusion\"></a>\n",
    "\n",
    "In this work,\n",
    "- we identified unusual records in the data brought about most likely by merging two different files of data. We then identified a complementary data source to help us clean up duplicated records.\n",
    "- we went used different techniques to understand the data in each column\n",
    "    - As part of this, we have identified:\n",
    "        - the process of cleaning up data for different types of analysis e.g, using only positive orders to compute Recency and Frequency; using all user order data to work out Monetary value of each customer\n",
    "        - identified users with only negative orders that we decided to remove from our analysis \n",
    "\n",
    "Some of the processes we have gone through here are key in the real world. It helps us critique the data and pose relavant data quality questions to the data originators. This all helps us to ensure that any insights from the data are valid"
   ]
  },
  {
   "cell_type": "markdown",
   "metadata": {
    "pycharm": {
     "name": "#%% md\n"
    }
   },
   "source": [
    "## 8.0 References<a class=\"anchor\" id=\"references\"></a>\n",
    "1. Chen, D., Sain, S.L. and Guo, K. 2012, \"Data mining for the online retail industry: A case study of RFM model-based customer segmentation using data mining\", Journal of Database Marketing & Customer Strategy Management, vol. 19, no. 3, pp. 197-208.  \n",
    "\n",
    "2. Bayer, E. 2020, , online-retail-2010-2011-rfm-analysis. Available: <a>https://www.kaggle.com/code/ekrembayar/rfm-analysis-online-retail-ii</a> [2022, Nov 8].\n",
    "\n",
    "3. Miyabon 2019, Online Retail II UCI. Available: <a>https://www.kaggle.com/datasets/mashlyn/online-retail-ii-uci</a> [2022, Nov 8,].\n",
    "4. Kabilan 2019, , Online Retail II dataset. Available: <a>https://www.kaggle.com/datasets/kabilan45/online-retail-ii-dataset</a> [2022, Nov 8,]."
   ]
  }
 ],
 "metadata": {
  "kernelspec": {
   "display_name": "Python 3 (ipykernel)",
   "language": "python",
   "name": "python3"
  },
  "language_info": {
   "codemirror_mode": {
    "name": "ipython",
    "version": 3
   },
   "file_extension": ".py",
   "mimetype": "text/x-python",
   "name": "python",
   "nbconvert_exporter": "python",
   "pygments_lexer": "ipython3",
   "version": "3.9.13"
  }
 },
 "nbformat": 4,
 "nbformat_minor": 4
}
